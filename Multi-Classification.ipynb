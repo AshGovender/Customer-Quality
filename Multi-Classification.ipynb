{
 "cells": [
  {
   "cell_type": "markdown",
   "id": "8bb66f3c-478f-4417-a32b-7b7d445974e0",
   "metadata": {},
   "source": [
    "<p style=\"text-align:center; font-size:32px; font-weight:bold; color:blue;\">\n",
    "    Multi-Classification NLP Model: Recipe Complaints\n",
    "</p>"
   ]
  },
  {
   "cell_type": "markdown",
   "id": "d2597d74-fa2a-4e5b-b508-0cfb6876c550",
   "metadata": {},
   "source": [
    "## Table of Contents\n",
    "\n",
    "- Business Understanding\n",
    "- Analytical Approach, Data Requirement/Collection/Understanding\n",
    "- Data Preparation (Python or SQL)\n",
    "- Dealing with Imbalanced Datasets\n",
    "- Model Development\n",
    "- Model Evaluation\n",
    "- Model Deployment\n"
   ]
  },
  {
   "cell_type": "markdown",
   "id": "fdc19fac-bc29-4f8d-855d-88a930e8ec16",
   "metadata": {},
   "source": [
    "## 1: Business Understanding"
   ]
  },
  {
   "cell_type": "markdown",
   "id": "ad923f66-9274-4d39-8bf9-f00a9ffae4b4",
   "metadata": {},
   "source": [
    " Our goal is to find which machine learning model is best suited to predict sentiment (output) given a customer quality complaint (input).\n",
    " This will enable the quality department to quickly identify which customer related grouping is the most problematic and address formulation issues accordingly. It will also \n",
    " help identify what keywords customers associate with different types of formulation issues and prevent manual classification which uses up valuable technician time."
   ]
  },
  {
   "cell_type": "markdown",
   "id": "c706747b-807a-4673-9ce1-626ff170bb89",
   "metadata": {},
   "source": [
    "## 2: Analytical Approach, Data Requirement,Data Collection and Data Understanding"
   ]
  },
  {
   "cell_type": "markdown",
   "id": "e37e5592-303a-4dde-830e-b605bb99921f",
   "metadata": {},
   "source": [
    "2.1. Analytical Approach: Multi-Class Classification using SVM, Decision Tree, Naive Bayes and Logistic Regression using bag of words as the text representation technique since we are concerned with the words but not their order"
   ]
  },
  {
   "cell_type": "markdown",
   "id": "74017e3e-2e68-43c1-a11c-8a35f2ffb84e",
   "metadata": {},
   "source": [
    "2.2. Data Requirements : Require labelled dataset showing different quality reason codes associated with different customer complaint descriptions. The complaint descriptions will needs to be converted from text to numerical values before being used in the classification models. The reviews need to be formatted prior to conversion using the text representation technique"
   ]
  },
  {
   "cell_type": "markdown",
   "id": "d3dd531c-b85a-41e6-8283-d06824eb59ab",
   "metadata": {},
   "source": [
    "2.3. Data collection:\n",
    " > Data set is from the customer complaints department containing 3022 entries.\n",
    " > No sql required for database extraction.\n",
    " > The dataset contains 2 columns (customer complaint and complaint grouping) that will help us identify what customer description falls under which complaint grouping.\n"
   ]
  },
  {
   "cell_type": "markdown",
   "id": "17417d9f-e1f6-4ead-a3e2-a0827c5efc7d",
   "metadata": {},
   "source": [
    "##### 2.4. Data Understanding (Exploratory Data Analysis/Descriptive statistics/data visualization)"
   ]
  },
  {
   "cell_type": "code",
   "execution_count": 28,
   "id": "76cde223-2ba9-4c3d-b194-fbad4aae726c",
   "metadata": {},
   "outputs": [
    {
     "name": "stdout",
     "output_type": "stream",
     "text": [
      "                                        Reason Reason group\n",
      "0                                Lumpy product        Lumpy\n",
      "1                                Lumpy product        Lumpy\n",
      "2                     Incorrect product inside       Colour\n",
      "3      Colour not matching Product Colour Card       Colour\n",
      "4     Colour not matching product Colour guide       Colour\n",
      "...                                        ...          ...\n",
      "3016                             Viscosity Low    Viscosity\n",
      "3017                          Washability poor        Bitty\n",
      "3018                         Yellowing Product    Yellowing\n",
      "3019                         Yellowing Product    Yellowing\n",
      "3020                         Yellowing Product    Yellowing\n",
      "\n",
      "[3021 rows x 2 columns]\n"
     ]
    }
   ],
   "source": [
    "# Read the dataset\n",
    "\n",
    "import pandas as pd  \n",
    "pd.set_option('display.max_columns', 2) \n",
    "df_Complaints= pd.read_excel('CustomerComplaints.xlsx') \n",
    "df_Complaints.head(10) \n",
    "print(df_Complaints) \n",
    "\n",
    "\n"
   ]
  },
  {
   "cell_type": "markdown",
   "id": "6e6405bb-80b2-4bd9-b82e-223780d48d1d",
   "metadata": {},
   "source": [
    "> As can be seen the data consists of 3020 rows\n"
   ]
  },
  {
   "cell_type": "code",
   "execution_count": 29,
   "id": "7f12fb04-b663-491b-bfab-d9f93b388894",
   "metadata": {},
   "outputs": [
    {
     "data": {
      "text/plain": [
       "Reason          object\n",
       "Reason group    object\n",
       "dtype: object"
      ]
     },
     "execution_count": 29,
     "metadata": {},
     "output_type": "execute_result"
    }
   ],
   "source": [
    "# As can be seen data types for both columns are objects\n",
    "df_Complaints.dtypes"
   ]
  },
  {
   "cell_type": "code",
   "execution_count": 30,
   "id": "852d0b0f-f7cf-4b38-87c6-8d554edf84dc",
   "metadata": {},
   "outputs": [
    {
     "data": {
      "text/html": [
       "<div>\n",
       "<style scoped>\n",
       "    .dataframe tbody tr th:only-of-type {\n",
       "        vertical-align: middle;\n",
       "    }\n",
       "\n",
       "    .dataframe tbody tr th {\n",
       "        vertical-align: top;\n",
       "    }\n",
       "\n",
       "    .dataframe thead th {\n",
       "        text-align: right;\n",
       "    }\n",
       "</style>\n",
       "<table border=\"1\" class=\"dataframe\">\n",
       "  <thead>\n",
       "    <tr style=\"text-align: right;\">\n",
       "      <th></th>\n",
       "      <th>Reason</th>\n",
       "      <th>Reason group</th>\n",
       "    </tr>\n",
       "  </thead>\n",
       "  <tbody>\n",
       "    <tr>\n",
       "      <th>count</th>\n",
       "      <td>3021</td>\n",
       "      <td>3019</td>\n",
       "    </tr>\n",
       "    <tr>\n",
       "      <th>unique</th>\n",
       "      <td>109</td>\n",
       "      <td>99</td>\n",
       "    </tr>\n",
       "    <tr>\n",
       "      <th>top</th>\n",
       "      <td>Gelled</td>\n",
       "      <td>Gelled</td>\n",
       "    </tr>\n",
       "    <tr>\n",
       "      <th>freq</th>\n",
       "      <td>468</td>\n",
       "      <td>365</td>\n",
       "    </tr>\n",
       "  </tbody>\n",
       "</table>\n",
       "</div>"
      ],
      "text/plain": [
       "        Reason Reason group\n",
       "count     3021         3019\n",
       "unique     109           99\n",
       "top     Gelled       Gelled\n",
       "freq       468          365"
      ]
     },
     "execution_count": 30,
     "metadata": {},
     "output_type": "execute_result"
    }
   ],
   "source": [
    "# Find the description of the dataset\n",
    "pd.set_option('display.max_rows', None)\n",
    "df_Complaints.describe()\n",
    "\n",
    "# what does this tell you: 3021 reasons for customer complaints and 3019 reason groups. 99 unique reason codes and 109 unique reasons. Top issue is gelling."
   ]
  },
  {
   "cell_type": "code",
   "execution_count": 31,
   "id": "4123c4c4-a5ea-47d6-8188-e97f5c7d238d",
   "metadata": {},
   "outputs": [
    {
     "data": {
      "text/plain": [
       "(3021, 2)"
      ]
     },
     "execution_count": 31,
     "metadata": {},
     "output_type": "execute_result"
    }
   ],
   "source": [
    "# find a summary of the dataset\n",
    "import pandas as pd\n",
    "pd.set_option('display.max_rows', 40)\n",
    "df_Complaints.shape\n",
    "\n",
    "# 3021 rows, 2 columns in the dataframe"
   ]
  },
  {
   "cell_type": "markdown",
   "id": "65041161-938d-4b39-bbfb-01011a521ff7",
   "metadata": {},
   "source": [
    "## 3: Data Preparation (Python or SQL)"
   ]
  },
  {
   "cell_type": "markdown",
   "id": "75a014aa-e867-40e6-bbb9-75c83f98d615",
   "metadata": {},
   "source": [
    "#### 3.1. Data Imputation & Cleaning"
   ]
  },
  {
   "cell_type": "code",
   "execution_count": 32,
   "id": "99ee52a2-d8b7-4e8e-aa0b-437e6cda6188",
   "metadata": {},
   "outputs": [
    {
     "name": "stdout",
     "output_type": "stream",
     "text": [
      "Reason: 0.0%\n",
      "Reason group: 0.07%\n"
     ]
    }
   ],
   "source": [
    "# find all missing data\n",
    "# counts null values and arranges columns in ascending order with the most missing values in % form\n",
    "\n",
    "df_Complaints.isnull().sum().sort_values(ascending=False)   \n",
    "\n",
    "# % of rows missing in each column\n",
    "for column in df_Complaints.columns:   # loops through columns in dataframe\n",
    "    percentage = df_Complaints[column].isnull().mean()   # find the percentage of each null value\n",
    "    print(f'{column}: {round(percentage*100, 2)}%')   # rounds percentage to 2 decimal places\n",
    "    \n",
    "# For the given dataset there are missing Reason group values"
   ]
  },
  {
   "cell_type": "code",
   "execution_count": 33,
   "id": "6c054c24-66d0-4558-a851-5083313cc32e",
   "metadata": {},
   "outputs": [],
   "source": [
    "#Dealing with missing values will be done by removing the rows that have missing values since there are few entries\n",
    "\n",
    "#dropna can automatically drop the null values in the row\n",
    "df_Complaints = df_Complaints.dropna(subset=['Reason group'])   \n"
   ]
  },
  {
   "cell_type": "code",
   "execution_count": 34,
   "id": "d1b06515-068a-4e44-8eb6-6504177b0d6e",
   "metadata": {},
   "outputs": [
    {
     "data": {
      "text/plain": [
       "Reason          0\n",
       "Reason group    0\n",
       "dtype: int64"
      ]
     },
     "execution_count": 34,
     "metadata": {},
     "output_type": "execute_result"
    }
   ],
   "source": [
    "df_Complaints.isnull().sum().sort_values(ascending=False)\n",
    "# as can be seen new dataframe has no null values"
   ]
  },
  {
   "cell_type": "code",
   "execution_count": 35,
   "id": "45133fa9-2f68-4e35-b916-c1aef8be2ce3",
   "metadata": {},
   "outputs": [
    {
     "name": "stdout",
     "output_type": "stream",
     "text": [
      "Requirement already satisfied: nltk in c:\\users\\pragesh.govender\\anaconda3\\lib\\site-packages (3.7)Note: you may need to restart the kernel to use updated packages.\n",
      "\n",
      "Requirement already satisfied: joblib in c:\\users\\pragesh.govender\\anaconda3\\lib\\site-packages (from nltk) (1.1.0)\n",
      "Requirement already satisfied: click in c:\\users\\pragesh.govender\\anaconda3\\lib\\site-packages (from nltk) (8.0.4)\n",
      "Requirement already satisfied: tqdm in c:\\users\\pragesh.govender\\anaconda3\\lib\\site-packages (from nltk) (4.64.0)\n",
      "Requirement already satisfied: regex>=2021.8.3 in c:\\users\\pragesh.govender\\anaconda3\\lib\\site-packages (from nltk) (2022.3.15)\n",
      "Requirement already satisfied: colorama in c:\\users\\pragesh.govender\\anaconda3\\lib\\site-packages (from click->nltk) (0.4.4)\n"
     ]
    }
   ],
   "source": [
    "pip install nltk"
   ]
  },
  {
   "cell_type": "code",
   "execution_count": 36,
   "id": "e1fa0bd7-2a00-4228-8c38-9b7741475d2a",
   "metadata": {},
   "outputs": [
    {
     "name": "stderr",
     "output_type": "stream",
     "text": [
      "[nltk_data] Downloading package punkt to\n",
      "[nltk_data]     C:\\Users\\Pragesh.govender\\AppData\\Roaming\\nltk_data...\n",
      "[nltk_data]   Package punkt is already up-to-date!\n",
      "[nltk_data] Downloading package stopwords to\n",
      "[nltk_data]     C:\\Users\\Pragesh.govender\\AppData\\Roaming\\nltk_data...\n",
      "[nltk_data]   Package stopwords is already up-to-date!\n",
      "[nltk_data] Downloading package wordnet to\n",
      "[nltk_data]     C:\\Users\\Pragesh.govender\\AppData\\Roaming\\nltk_data...\n",
      "[nltk_data]   Package wordnet is already up-to-date!\n",
      "[nltk_data] Downloading package omw-1.4 to\n",
      "[nltk_data]     C:\\Users\\Pragesh.govender\\AppData\\Roaming\\nltk_data...\n",
      "[nltk_data]   Package omw-1.4 is already up-to-date!\n"
     ]
    },
    {
     "data": {
      "text/plain": [
       "True"
      ]
     },
     "execution_count": 36,
     "metadata": {},
     "output_type": "execute_result"
    }
   ],
   "source": [
    "import nltk\n",
    "nltk.download('punkt')\n",
    "nltk.download('stopwords')\n",
    "nltk.download('wordnet')\n",
    "nltk.download('omw-1.4')"
   ]
  },
  {
   "cell_type": "markdown",
   "id": "0fb42236-5946-40dc-9385-faa7b4c0be1f",
   "metadata": {},
   "source": [
    "#### 3.2. Normalization (tokenization, lowercasing, removing stop words) "
   ]
  },
  {
   "cell_type": "code",
   "execution_count": 37,
   "id": "7c84bfd2-ef47-4df5-911c-6b89ea84ce0e",
   "metadata": {},
   "outputs": [
    {
     "name": "stdout",
     "output_type": "stream",
     "text": [
      "                                     Reason  ...  \\\n",
      "0                             lumpy product  ...   \n",
      "1                             lumpy product  ...   \n",
      "2                  incorrect product inside  ...   \n",
      "3   colour not matching product colour card  ...   \n",
      "4  colour not matching product colour guide  ...   \n",
      "\n",
      "                      Reason_normalized  \n",
      "0                         lumpy product  \n",
      "1                         lumpy product  \n",
      "2              incorrect product inside  \n",
      "3   colour matching product colour card  \n",
      "4  colour matching product colour guide  \n",
      "\n",
      "[5 rows x 4 columns]\n"
     ]
    }
   ],
   "source": [
    "# [https://towardsdatascience.com/5-simple-ways-to-tokenize-text-in-python-92c6804edfc4]\n",
    "# constant pre-processing on the whole data will not cause data spillage \n",
    "# can split data afterwards\n",
    "\n",
    "from nltk.tokenize import word_tokenize\n",
    "from nltk.corpus import stopwords\n",
    "from nltk.stem import PorterStemmer, WordNetLemmatizer\n",
    "import string\n",
    "\n",
    "# Make a copy of the DataFrame to avoid unintentional copy issues\n",
    "df_normalized = df_Complaints.copy()\n",
    "\n",
    "# Normalize 'Reason' column: Convert to lowercase and remove whitespace/punctuation\n",
    "df_normalized['Reason'] = df_normalized['Reason'].apply(lambda x: x.lower().strip())\n",
    "df_normalized['Reason'] = df_normalized['Reason'].apply(lambda x: x.translate(str.maketrans('', '', string.punctuation)))\n",
    "\n",
    "# Normalize 'Reason group' column: Convert to lowercase and remove whitespace/punctuation\n",
    "df_normalized['Reason group'] = df_normalized['Reason group'].apply(lambda x: x.lower().strip())\n",
    "df_normalized['Reason group'] = df_normalized['Reason group'].apply(lambda x: x.translate(str.maketrans('', '', string.punctuation)))\n",
    "\n",
    "# Tokenization: Tokenize 'Reason' column\n",
    "# Word tokenization splits text data into individual words or tokens (base form)\n",
    "df_normalized['tokenized_text'] = df_normalized['Reason'].apply(word_tokenize)\n",
    "\n",
    "# Stopword Removal: Remove stopwords from 'tokenized_text' column\n",
    "stop_words = set(stopwords.words('english'))\n",
    "df_normalized['tokenized_text'] = df_normalized['tokenized_text'].apply(lambda tokens: [token for token in tokens if token not in stop_words])\n",
    "\n",
    "# Stemming or Lemmatization: Apply lemmatization to 'tokenized_text' column\n",
    "# lemmatization is used because it is more accurate than stemming \n",
    "# considers context when converting text to its base form\n",
    "lemmatizer = WordNetLemmatizer()\n",
    "df_normalized['tokenized_text'] = df_normalized['tokenized_text'].apply(lambda tokens: [lemmatizer.lemmatize(token) for token in tokens])\n",
    "\n",
    "# Join tokens back into a single string so that it is compatible with TF_IDF\n",
    "df_normalized['Reason_normalized'] = df_normalized['tokenized_text'].apply(lambda tokens: ' '.join(tokens))\n",
    "\n",
    "# Display the updated DataFrame with normalized and tokenized text\n",
    "print(df_normalized.head())"
   ]
  },
  {
   "cell_type": "markdown",
   "id": "255e2949-67ea-49b7-8360-813563f9edb1",
   "metadata": {},
   "source": [
    "#### 3.3. Feature engineering (addition)"
   ]
  },
  {
   "cell_type": "code",
   "execution_count": 39,
   "id": "52a40422-c114-4db7-8133-95598c2d43df",
   "metadata": {},
   "outputs": [
    {
     "data": {
      "text/plain": [
       "<1617x135 sparse matrix of type '<class 'numpy.float64'>'\n",
       "\twith 3429 stored elements in Compressed Sparse Row format>"
      ]
     },
     "execution_count": 39,
     "metadata": {},
     "output_type": "execute_result"
    }
   ],
   "source": [
    "# need to turn customer complaint terms into numerical values for classifier/learning algorithm\n",
    "# various text representation techniques such as one-hot-coding, bag of words, wor2vec, TF_IDF \n",
    "# TF_IDF will be used as the technique since we care about the frequency of words in the text review and order of words is relevant\n",
    "# In our original dataset, we want to identify unique/representative words for each quality reason grouping, so we’ll choose the TF-IDF. To turn text data into numerical vectors with TF-IDF, we write the following code.\n",
    "\n",
    "\n",
    "from sklearn.model_selection import train_test_split\n",
    "from sklearn.feature_extraction.text import TfidfVectorizer      \n",
    "\n",
    "# splitting into train and test set needs to be done before TF-IDF \n",
    "# this prevents test and train data spilling and causing overfitting issues\n",
    "# before using oversampling stratified sampling to have a real respresentation of the distribution\n",
    "# once the split is done - do oversampling on the train set\n",
    "# validation set can then be used to tune models use stratfied-Kfolds method\n",
    "# test set can evaluate final model\n",
    "\n",
    "# split dataset into train and test\n",
    "# Can't use stratified sampling as some classes have less than one instances\n",
    "#train, test = train_test_split(df_normalized, test_size=0.33,stratify=df_normalized['Reason group'], random_state=42)  \n",
    "\n",
    "#random sampling\n",
    "train, test = train_test_split(df_normalized, test_size=0.33, random_state=42) \n",
    "\n",
    "#Ensure that the tokenized column is used (pre-processing steps) before TF_IDF\n",
    "train_x, train_y = train['Reason_normalized'], train['Reason group']   \n",
    "test_x, test_y = test['Reason_normalized'], test['Reason group'] \n",
    "\n",
    "# Split the training set after oversampling into a validation and test set. Validation for tuning\n",
    "# can't do stratified sampling because some classes have less than 2 instances\n",
    "#X_train, X_val, y_train, y_val = train_test_split(train_x, train_y, test_size=0.2,stratify=train_y, random_state=42)    \n",
    "\n",
    "#random sampling \n",
    "X_train, X_val, y_train, y_val = train_test_split(train_x, train_y, test_size=0.2, random_state=42)    \n",
    "\n",
    "tfidf = TfidfVectorizer(stop_words='english')\n",
    "\n",
    "train_x_vector = tfidf.fit_transform(X_train)\n",
    "train_x_vector\n",
    "\n",
    "#In the code above, we create a new instance of TfidfVectorizer(tfidf),\n",
    "#we removed English stopwords and then fit (finds the internal parameters of a model) \n",
    "#and transform does the conversion to text\n"
   ]
  },
  {
   "cell_type": "code",
   "execution_count": 41,
   "id": "ba6978ee-24f2-4690-b721-5d42423b407d",
   "metadata": {},
   "outputs": [
    {
     "data": {
      "text/html": [
       "<div>\n",
       "<style scoped>\n",
       "    .dataframe tbody tr th:only-of-type {\n",
       "        vertical-align: middle;\n",
       "    }\n",
       "\n",
       "    .dataframe tbody tr th {\n",
       "        vertical-align: top;\n",
       "    }\n",
       "\n",
       "    .dataframe thead th {\n",
       "        text-align: right;\n",
       "    }\n",
       "</style>\n",
       "<table border=\"1\" class=\"dataframe\">\n",
       "  <thead>\n",
       "    <tr style=\"text-align: right;\">\n",
       "      <th></th>\n",
       "      <th>adhering</th>\n",
       "      <th>...</th>\n",
       "      <th>yellowing</th>\n",
       "    </tr>\n",
       "  </thead>\n",
       "  <tbody>\n",
       "    <tr>\n",
       "      <th>1277</th>\n",
       "      <td>0.0</td>\n",
       "      <td>...</td>\n",
       "      <td>0.0</td>\n",
       "    </tr>\n",
       "    <tr>\n",
       "      <th>2477</th>\n",
       "      <td>0.0</td>\n",
       "      <td>...</td>\n",
       "      <td>0.0</td>\n",
       "    </tr>\n",
       "    <tr>\n",
       "      <th>1482</th>\n",
       "      <td>0.0</td>\n",
       "      <td>...</td>\n",
       "      <td>0.0</td>\n",
       "    </tr>\n",
       "    <tr>\n",
       "      <th>222</th>\n",
       "      <td>0.0</td>\n",
       "      <td>...</td>\n",
       "      <td>0.0</td>\n",
       "    </tr>\n",
       "    <tr>\n",
       "      <th>1259</th>\n",
       "      <td>0.0</td>\n",
       "      <td>...</td>\n",
       "      <td>0.0</td>\n",
       "    </tr>\n",
       "    <tr>\n",
       "      <th>...</th>\n",
       "      <td>...</td>\n",
       "      <td>...</td>\n",
       "      <td>...</td>\n",
       "    </tr>\n",
       "    <tr>\n",
       "      <th>2815</th>\n",
       "      <td>0.0</td>\n",
       "      <td>...</td>\n",
       "      <td>0.0</td>\n",
       "    </tr>\n",
       "    <tr>\n",
       "      <th>137</th>\n",
       "      <td>0.0</td>\n",
       "      <td>...</td>\n",
       "      <td>0.0</td>\n",
       "    </tr>\n",
       "    <tr>\n",
       "      <th>746</th>\n",
       "      <td>0.0</td>\n",
       "      <td>...</td>\n",
       "      <td>0.0</td>\n",
       "    </tr>\n",
       "    <tr>\n",
       "      <th>2387</th>\n",
       "      <td>0.0</td>\n",
       "      <td>...</td>\n",
       "      <td>0.0</td>\n",
       "    </tr>\n",
       "    <tr>\n",
       "      <th>2188</th>\n",
       "      <td>0.0</td>\n",
       "      <td>...</td>\n",
       "      <td>0.0</td>\n",
       "    </tr>\n",
       "  </tbody>\n",
       "</table>\n",
       "<p>1617 rows × 135 columns</p>\n",
       "</div>"
      ],
      "text/plain": [
       "      adhering  ...  yellowing\n",
       "1277       0.0  ...        0.0\n",
       "2477       0.0  ...        0.0\n",
       "1482       0.0  ...        0.0\n",
       "222        0.0  ...        0.0\n",
       "1259       0.0  ...        0.0\n",
       "...        ...  ...        ...\n",
       "2815       0.0  ...        0.0\n",
       "137        0.0  ...        0.0\n",
       "746        0.0  ...        0.0\n",
       "2387       0.0  ...        0.0\n",
       "2188       0.0  ...        0.0\n",
       "\n",
       "[1617 rows x 135 columns]"
      ]
     },
     "execution_count": 41,
     "metadata": {},
     "output_type": "execute_result"
    }
   ],
   "source": [
    "#Matrix displayed visually\n",
    "pd.DataFrame.sparse.from_spmatrix(train_x_vector,\n",
    "                                  index=X_train.index,\n",
    "                                  columns=tfidf.get_feature_names_out())"
   ]
  },
  {
   "cell_type": "code",
   "execution_count": 42,
   "id": "c999a14c-bb3b-48d2-a522-46e8d88853d8",
   "metadata": {},
   "outputs": [
    {
     "name": "stdout",
     "output_type": "stream",
     "text": [
      "Type of train_x_vector: <class 'scipy.sparse.csr.csr_matrix'>\n",
      "Contains strings in train_x_vector: False\n"
     ]
    }
   ],
   "source": [
    "# Check the datatype of train_x_vector\n",
    "print(\"Type of train_x_vector:\", type(train_x_vector))\n",
    "\n",
    "# Check if train_x_vector contains any non-numeric values\n",
    "contains_strings = any(isinstance(val, str) for val in train_x_vector)\n",
    "print(\"Contains strings in train_x_vector:\", contains_strings)\n",
    "\n",
    "# no non-numeric characters present"
   ]
  },
  {
   "cell_type": "code",
   "execution_count": 43,
   "id": "21b37c90-f9e6-4a0e-be15-00dd856aa2ce",
   "metadata": {},
   "outputs": [
    {
     "data": {
      "text/plain": [
       "<997x135 sparse matrix of type '<class 'numpy.float64'>'\n",
       "\twith 2111 stored elements in Compressed Sparse Row format>"
      ]
     },
     "execution_count": 43,
     "metadata": {},
     "output_type": "execute_result"
    }
   ],
   "source": [
    "# transform the test data set x so that can test the efficiency of the model later on\n",
    "\n",
    "test_x_vector = tfidf.transform(test_x)\n",
    "test_x_vector"
   ]
  },
  {
   "cell_type": "code",
   "execution_count": 44,
   "id": "f754ba44-d49a-46e5-aeb1-d73598a5c363",
   "metadata": {},
   "outputs": [
    {
     "data": {
      "text/plain": [
       "<405x135 sparse matrix of type '<class 'numpy.float64'>'\n",
       "\twith 872 stored elements in Compressed Sparse Row format>"
      ]
     },
     "execution_count": 44,
     "metadata": {},
     "output_type": "execute_result"
    }
   ],
   "source": [
    "# transform the validation dataset x so that it can tune the model later on\n",
    "\n",
    "val_x_vector = tfidf.transform(X_val)\n",
    "val_x_vector"
   ]
  },
  {
   "cell_type": "markdown",
   "id": "416bcec7-ebf1-4293-8f11-81dd69034674",
   "metadata": {},
   "source": [
    "## 4: Dealing With Imbalanced Datasets"
   ]
  },
  {
   "cell_type": "code",
   "execution_count": 45,
   "id": "fd9648e5-422d-441e-98ee-e3bd75f56047",
   "metadata": {},
   "outputs": [
    {
     "data": {
      "image/png": "[encoded data removed]",
      "text/plain": [
       "<Figure size 1296x360 with 1 Axes>"
      ]
     },
     "metadata": {
      "needs_background": "light"
     },
     "output_type": "display_data"
    }
   ],
   "source": [
    "#No oversamling or undersampling is required\n",
    "\n",
    "import matplotlib.pyplot as plt  # import pyplot to draw bar graph\n",
    "\n",
    "f, ax = plt.subplots(figsize=(18,5))\n",
    "\n",
    "font1 = {'family':'serif','color':'blue','size':10}      \n",
    "font2 = {'family':'serif','color':'darkred','size':15}\n",
    "\n",
    "plt.suptitle(\"Customer Complaints\",fontdict = font1)     \n",
    "df_gb = df_normalized.groupby(['Reason group']).size()\n",
    "\n",
    "df_gb.plot.bar()\n",
    "plt.show()   \n",
    "\n",
    "\n",
    "# As can be seen the data is imbalanced, therefore multi-class balancing using SMOTE analysis could be carried out - however due to some classes having few entries SMOTE analysis is not possible\n",
    "\n",
    "# random oversampling will be done - there is a risk of overfitting however some classes are very imbalanced. The other option is to just collect more data representative of the underperforming classes"
   ]
  },
  {
   "cell_type": "code",
   "execution_count": 47,
   "id": "fff14d3a-b03d-407b-aea5-6cf7f6f9981d",
   "metadata": {},
   "outputs": [],
   "source": [
    "from imblearn.over_sampling import RandomOverSampler\n",
    "\n",
    "# Instantiate RandomOverSampler\n",
    "oversampler = RandomOverSampler(random_state=42)\n",
    "\n",
    "# Resample the TF-IDF vectors and corresponding labels using RandomOverSampler\n",
    "train_x_resampled, train_y_resampled = oversampler.fit_resample(train_x_vector, y_train)\n",
    "\n"
   ]
  },
  {
   "cell_type": "code",
   "execution_count": 48,
   "id": "c5bb8a12-b272-40ab-a4c0-09563b5acc9b",
   "metadata": {},
   "outputs": [
    {
     "name": "stdout",
     "output_type": "stream",
     "text": [
      "Original class distribution:\n",
      "gelled              385\n",
      "packaging           367\n",
      "colour              194\n",
      "viscosity           169\n",
      "rotten              139\n",
      "                   ... \n",
      "odour                 1\n",
      "retention             1\n",
      "moisture              1\n",
      "poor application      1\n",
      "slow drying           1\n",
      "Name: Reason group, Length: 59, dtype: int64\n"
     ]
    },
    {
     "data": {
      "image/png": "[encoded data removed]",
      "text/plain": [
       "<Figure size 864x432 with 1 Axes>"
      ]
     },
     "metadata": {
      "needs_background": "light"
     },
     "output_type": "display_data"
    }
   ],
   "source": [
    "# Before resampling\n",
    "original_class_distribution = train_y.value_counts()\n",
    "print(\"Original class distribution:\")\n",
    "print(original_class_distribution)\n",
    "\n",
    "# Plot original class distribution\n",
    "plt.figure(figsize=(12, 6))\n",
    "original_class_distribution.plot(kind='bar', color='blue', alpha=0.7)\n",
    "plt.title('Class Distribution Before Resampling')\n",
    "plt.xlabel('Class')\n",
    "plt.ylabel('Frequency')\n",
    "plt.show()"
   ]
  },
  {
   "cell_type": "code",
   "execution_count": 49,
   "id": "48612065-1f5b-406b-b0e0-824ec786a887",
   "metadata": {},
   "outputs": [
    {
     "name": "stdout",
     "output_type": "stream",
     "text": [
      "Resampled class distribution:\n",
      "viscosity        325\n",
      "gell strength    325\n",
      "adhesion         325\n",
      "wrong product    325\n",
      "product          325\n",
      "                ... \n",
      "staining         325\n",
      "corrosion        325\n",
      "blistering       325\n",
      "application      325\n",
      "texture          325\n",
      "Name: Reason group, Length: 55, dtype: int64\n"
     ]
    },
    {
     "data": {
      "image/png": "[encoded data removed]",
      "text/plain": [
       "<Figure size 864x432 with 1 Axes>"
      ]
     },
     "metadata": {
      "needs_background": "light"
     },
     "output_type": "display_data"
    }
   ],
   "source": [
    "# After resampling\n",
    "resampled_class_distribution = pd.Series(train_y_resampled).value_counts()\n",
    "print(\"Resampled class distribution:\")\n",
    "print(resampled_class_distribution)\n",
    "\n",
    "# Plot resampled class distribution\n",
    "plt.figure(figsize=(12, 6))\n",
    "resampled_class_distribution.plot(kind='bar', color='green', alpha=0.7)\n",
    "plt.title('Class Distribution After Resampling')\n",
    "plt.xlabel('Class')\n",
    "plt.ylabel('Frequency')\n",
    "plt.show()\n",
    "\n",
    "# as can be seen the resampling worked"
   ]
  },
  {
   "cell_type": "markdown",
   "id": "b5fcd9a7-16ff-4435-aa37-6149e99da7fa",
   "metadata": {},
   "source": [
    "## 5: Model Development"
   ]
  },
  {
   "cell_type": "markdown",
   "id": "4a1e2bf1-6e35-44a8-af80-9a1260fbdfe4",
   "metadata": {},
   "source": [
    "#### 5.1. Split train into train and validation set"
   ]
  },
  {
   "cell_type": "markdown",
   "id": "c85a6854-1c12-432a-bfe1-7d805c7e4b45",
   "metadata": {},
   "source": [
    "Already done in previous steps\n"
   ]
  },
  {
   "cell_type": "markdown",
   "id": "21ca94e8-34e2-43e3-934d-d0bc29bf90c8",
   "metadata": {},
   "source": [
    "#### 5.2. Model Training and Tuning"
   ]
  },
  {
   "cell_type": "markdown",
   "id": "9c24d53e-c460-4a6c-bfef-fc9855b87a4e",
   "metadata": {},
   "source": [
    "* with the numerical data, can experiment with different machine learning models and evaluate their accuracy\n",
    "* Machine learning algorithms are divided between supervised learning and unsupervised learning. \n",
    "* In the first, models are trained using labeled data, while in the second \n",
    "* patterns are inferred from the unlabeled input data.\n",
    "* In our example, our input (review) and output (reason group) are clearly identified, \n",
    "* so we can say we have labeled input and output data; \n",
    "* therefore, we’re dealing with supervised learning. \n",
    "* Two common types of supervised learning algorithms are Regression and Classification.\n",
    "> Regression: They’re used to predict continuous values such as price, salary, age, etc\n",
    "> Classification: They’re used to predict discrete values such as male/female, spam/not spam, positive/negative, etc.\n",
    "\n",
    "* That said, it’s now evident that we should use classification algorithms. \n",
    "* We will benchmark the following four classification models (SVM, Decision Tree, Naive Bayes)\n",
    "* This is used to maximize the model performance\n",
    "* The grid search method will be used\n",
    "* This is technique consists of an exhaustive search on specified parameters in order to obtain the optimum values of hyperparameters. \n",
    "\n",
    "* other examples of tuning: \n",
    "\n",
    "> * Bayesian Optimisation\n",
    "> * Evolutionary Algorithms\n",
    "> * Gradient-Based Optimisation. ...\n",
    "> * Grid Search. ...\n",
    "> * Keras' Tuner. ...\n",
    "> * Population-based Optimisation. ...\n",
    "> * ParamILS. ...\n",
    "> * Random Search."
   ]
  },
  {
   "cell_type": "markdown",
   "id": "d5ae4d92-fd89-4699-a679-a67b8f25f568",
   "metadata": {},
   "source": [
    "#### 4.2.1. Model 1: Support Vector Machines"
   ]
  },
  {
   "cell_type": "code",
   "execution_count": 54,
   "id": "d7f38249-58dc-4d21-9f02-5b55776c5589",
   "metadata": {},
   "outputs": [
    {
     "name": "stdout",
     "output_type": "stream",
     "text": [
      "{'C': 1, 'kernel': 'linear'}\n",
      "SVC(C=1, kernel='linear')\n",
      "Accuracy: 0.5358024691358024\n",
      "Precision: 0.9072934839601506\n",
      "Recall: 0.5358024691358024\n",
      "f1: 0.6134683637360684\n"
     ]
    }
   ],
   "source": [
    "# model tuning for svm\n",
    "from sklearn.model_selection import GridSearchCV\n",
    "from sklearn.model_selection import StratifiedKFold\n",
    "from sklearn.svm import SVC\n",
    "from sklearn.metrics import precision_score\n",
    "from sklearn.metrics import recall_score\n",
    "from sklearn.metrics import f1_score\n",
    "\n",
    "\n",
    "# Define the parameters grid\n",
    "# linear kernel (dot product of input features)\n",
    "# The Radial Basis Function (RBF) kernel, which can handle non-linearly separable data by mapping it to a higher-dimensional space.\n",
    "# C=1, regularization strength\n",
    "\n",
    "parameters = {'C': \n",
    "              [1, 4, 8, 16, 32], \n",
    "              'kernel': ['linear', 'rbf']}\n",
    "\n",
    "# Initialize SVC and GridSearchCV with parameters and cross-validation\n",
    "svc = SVC()\n",
    "\n",
    "# The k-fold cross validation method will be used\n",
    "# Specify the number of splits (e.g., k=5)\n",
    "# f1-weighted scoring - tuning will aim at improving the f1-score\n",
    "Strat_kfold = StratifiedKFold(n_splits=5, shuffle=True, random_state=42)  \n",
    "svc_grid = GridSearchCV(svc, parameters, cv=Strat_kfold,scoring='f1_weighted')\n",
    "\n",
    "# Fit GridSearchCV to filtered training data\n",
    "svc_grid.fit(train_x_resampled, train_y_resampled)\n",
    "\n",
    "# Evaluate the best estimator on the validation set (X_val, y_val) and see if need to tune parameters more before evaluation phase\n",
    "# only measure that doesn't require you to calculate y_pred\n",
    "Accuracy = svc_grid.best_estimator_.score(val_x_vector, y_val)  \n",
    "\n",
    "# Predict labels on the validation set\n",
    "y_pred_val = svc_grid.best_estimator_.predict(val_x_vector)\n",
    " \n",
    "\n",
    "# for all models average score is calculated using the \"weighted\" method\n",
    "# This ensures that the performance on minority classes is not overshadowed by the majority classes\n",
    "Precision = precision_score(y_val, y_pred_val, average='weighted',zero_division=1) \n",
    "Recall = recall_score(y_val, y_pred_val, average='weighted',zero_division=1)\n",
    "f1 = f1_score(y_val, y_pred_val, average='weighted',zero_division=1)\n",
    "\n",
    "\n",
    "# Display best parameters and best estimator\n",
    "print(svc_grid.best_params_)\n",
    "print(svc_grid.best_estimator_)\n",
    "print(\"Accuracy:\", Accuracy)\n",
    "print(\"Precision:\", Precision)\n",
    "print(\"Recall:\", Recall)\n",
    "print(\"f1:\", f1)\n"
   ]
  },
  {
   "cell_type": "code",
   "execution_count": 55,
   "id": "f247a6e2-ce4a-4c11-9668-8acb09336b0a",
   "metadata": {},
   "outputs": [
    {
     "name": "stdout",
     "output_type": "stream",
     "text": [
      "{'C': 1, 'kernel': 'linear'}\n",
      "SVC(C=1, kernel='linear')\n",
      "Accuracy: 0.8317762237762237\n",
      "Precision: 0.8954909827540994\n",
      "Recall: 0.8317762237762237\n",
      "f1: 0.795894625537977\n"
     ]
    }
   ],
   "source": [
    "# lets do a test for overfitting and underfitting\n",
    "# will do this by comparing the perfomance of the train set and the validation set and test set\n",
    "\n",
    "Accuracy = svc_grid.best_estimator_.score(train_x_resampled, train_y_resampled)  \n",
    "y_pred = svc_grid.best_estimator_.predict(train_x_resampled)\n",
    " \n",
    "\n",
    "Precision = precision_score(train_y_resampled, y_pred, average='weighted',zero_division=1) \n",
    "Recall = recall_score(train_y_resampled, y_pred, average='weighted',zero_division=1)\n",
    "f1 = f1_score(train_y_resampled, y_pred, average='weighted',zero_division=1)\n",
    "\n",
    "\n",
    "# Display best parameters and best estimator\n",
    "print(svc_grid.best_params_)\n",
    "print(svc_grid.best_estimator_)\n",
    "print(\"Accuracy:\", Accuracy)\n",
    "print(\"Precision:\", Precision)\n",
    "print(\"Recall:\", Recall)\n",
    "print(\"f1:\", f1)"
   ]
  },
  {
   "cell_type": "markdown",
   "id": "549107de-d51e-4dae-ae45-75707bb62304",
   "metadata": {},
   "source": [
    "Based on the results, the train set performs more or less the same as the validation set, so can say that there is no overfitting \n",
    "\n",
    "Also with the train and validation set, model performance is relatively good, so no underfitting either\n"
   ]
  },
  {
   "cell_type": "markdown",
   "id": "16c3026d-0c88-41a6-adb8-e0494bd213e0",
   "metadata": {},
   "source": [
    "#### 4.2.2.Model 2: Decision Tree"
   ]
  },
  {
   "cell_type": "code",
   "execution_count": 56,
   "id": "4e4c2292-b4d7-491c-beb2-0d845089223e",
   "metadata": {},
   "outputs": [
    {
     "name": "stdout",
     "output_type": "stream",
     "text": [
      "{'max_depth': None, 'min_samples_leaf': 1, 'min_samples_split': 2}\n",
      "DecisionTreeClassifier()\n",
      "Accuracy: 0.5358024691358024\n",
      "Precision: 0.9087184009406231\n",
      "Recall: 0.5358024691358024\n",
      "f1: 0.6131835505378997\n"
     ]
    }
   ],
   "source": [
    "#model tuning for decision tree\n",
    "\n",
    "from sklearn.model_selection import StratifiedKFold, GridSearchCV\n",
    "from sklearn.tree import DecisionTreeClassifier\n",
    "\n",
    "# Define the parameters grid for Decision Tree\n",
    "parameters = {\n",
    "    'max_depth': [None, 10, 20, 30],\n",
    "    'min_samples_split': [2, 5, 10],\n",
    "    'min_samples_leaf': [1, 2, 4]\n",
    "}\n",
    "\n",
    "# Initialize Decision Tree Classifier\n",
    "dt = DecisionTreeClassifier()\n",
    "\n",
    "# Initialize GridSearchCV with parameters and cross-validation (Leave-One-Out)\n",
    "# Specify the number of splits (e.g., k=5)\n",
    "Strat_kfold = StratifiedKFold(n_splits=5, shuffle=True, random_state=42)  \n",
    "dt_grid = GridSearchCV(dt, parameters, cv=Strat_kfold,scoring='f1_weighted')\n",
    "\n",
    "#fit model with training data\n",
    "dt_grid.fit(train_x_resampled,train_y_resampled)\n",
    "\n",
    "# Evaluate the best estimator on the validation set (X_val, y_val) and see if need to tune parameters more before evaluation phase\n",
    "Accuracy = dt_grid.best_estimator_.score(val_x_vector, y_val) \n",
    "\n",
    "# Predict labels on the test set\n",
    "y_pred_val = dt_grid.best_estimator_.predict(val_x_vector)\n",
    " \n",
    "\n",
    "Precision = precision_score(y_val, y_pred_val, average='weighted',zero_division=1) \n",
    "Recall = recall_score(y_val, y_pred_val, average='weighted',zero_division=1)\n",
    "f1 = f1_score(y_val, y_pred_val, average='weighted',zero_division=1)\n",
    "\n",
    "\n",
    "# Display best parameters and best estimator\n",
    "print(dt_grid.best_params_)\n",
    "print(dt_grid.best_estimator_)\n",
    "print(\"Accuracy:\", Accuracy)\n",
    "print(\"Precision:\", Precision)\n",
    "print(\"Recall:\", Recall)\n",
    "print(\"f1:\", f1)"
   ]
  },
  {
   "cell_type": "code",
   "execution_count": 57,
   "id": "55315b59-5385-4140-94cb-f69f502c95b8",
   "metadata": {},
   "outputs": [
    {
     "data": {
      "image/png": "[encoded data removed]",
      "text/plain": [
       "<Figure size 1440x720 with 1 Axes>"
      ]
     },
     "metadata": {
      "needs_background": "light"
     },
     "output_type": "display_data"
    }
   ],
   "source": [
    "#visualize tree\n",
    "\n",
    "from sklearn.tree import plot_tree\n",
    "plt.figure(figsize=(20, 10))\n",
    "plot_tree(dt_grid.best_estimator_, filled=True)\n",
    "plt.show()"
   ]
  },
  {
   "cell_type": "code",
   "execution_count": 58,
   "id": "59328466-8c0d-4b53-8d37-aae14b931283",
   "metadata": {},
   "outputs": [
    {
     "name": "stdout",
     "output_type": "stream",
     "text": [
      "{'max_depth': None, 'min_samples_leaf': 1, 'min_samples_split': 2}\n",
      "DecisionTreeClassifier()\n",
      "Accuracy: 0.8317762237762237\n",
      "Precision: 0.8954909827540994\n",
      "Recall: 0.8317762237762237\n",
      "f1: 0.795894625537977\n"
     ]
    }
   ],
   "source": [
    "# lets do a test for overfitting and underfitting\n",
    "# will do this by comparing the perfomance of the train set and the validation set\n",
    "\n",
    "\n",
    "Accuracy = dt_grid.best_estimator_.score(train_x_resampled, train_y_resampled)  \n",
    "y_pred = dt_grid.best_estimator_.predict(train_x_resampled)\n",
    " \n",
    "\n",
    "Precision = precision_score(train_y_resampled, y_pred, average='weighted',zero_division=1) \n",
    "Recall = recall_score(train_y_resampled, y_pred, average='weighted',zero_division=1)\n",
    "f1 = f1_score(train_y_resampled, y_pred, average='weighted',zero_division=1)\n",
    "\n",
    "\n",
    "# Display best parameters and best estimator\n",
    "print(dt_grid.best_params_)\n",
    "print(dt_grid.best_estimator_)\n",
    "print(\"Accuracy:\", Accuracy)\n",
    "print(\"Precision:\", Precision)\n",
    "print(\"Recall:\", Recall)\n",
    "print(\"f1:\", f1)"
   ]
  },
  {
   "cell_type": "markdown",
   "id": "831ac627-34fe-4a10-8b71-a07c630c0271",
   "metadata": {},
   "source": [
    "Based on the results, the train set performs more or less the same as the validation set, so can say that there is no overfitting \n",
    "\n",
    "Also with the train and validation set, model performance is relatively good, so no underfitting either"
   ]
  },
  {
   "cell_type": "markdown",
   "id": "b16755b3-6a07-4277-b8ad-cbdb22a9b07a",
   "metadata": {},
   "source": [
    "#### 4.2.3. Model 3: Naive Bayes"
   ]
  },
  {
   "cell_type": "code",
   "execution_count": 59,
   "id": "71f928c7-a273-4f0d-a0a7-a31e342f48b2",
   "metadata": {},
   "outputs": [
    {
     "name": "stdout",
     "output_type": "stream",
     "text": [
      "{'var_smoothing': 1e-05}\n",
      "GaussianNB(var_smoothing=1e-05)\n",
      "Accuracy: 0.43950617283950616\n",
      "Precision: 0.9136821477562217\n",
      "Recall: 0.43950617283950616\n",
      "f1: 0.48980824288320685\n"
     ]
    }
   ],
   "source": [
    "# Model tuning for naive bayes\n",
    "\n",
    "from sklearn.naive_bayes import GaussianNB \n",
    "\n",
    "# Define the parameters grid for Gaussian Naive Bayes\n",
    "parameters = {\n",
    "    'var_smoothing': [1e-9, 1e-8, 1e-7, 1e-6, 1e-5]\n",
    "}\n",
    "\n",
    "# Initialize Gaussian Naive Bayes classifier\n",
    "gnb = GaussianNB()\n",
    "\n",
    "# Initialize GridSearchCV with parameters and cross-validation \n",
    "# Specify the number of splits (e.g., k=5)\n",
    "Strat_kfold = StratifiedKFold(n_splits=5, shuffle=True, random_state=42) \n",
    "gnb_grid = GridSearchCV(gnb, parameters, cv=Strat_kfold,scoring='f1_weighted')\n",
    "\n",
    "# Fit GridSearchCV to filtered training data\n",
    "# need to convert x to an array before model fitting\n",
    "gnb_grid.fit(train_x_resampled.toarray(),train_y_resampled)\n",
    "\n",
    "# Evaluate the best estimator on the validation set (X_val, y_val) and see if need to tune parameters more before evaluation phase\n",
    "Accuracy = gnb_grid.best_estimator_.score(val_x_vector.toarray(), y_val)  \n",
    "\n",
    "# Predict labels on the test set\n",
    "y_pred_val = gnb_grid.best_estimator_.predict(val_x_vector.toarray())\n",
    " \n",
    "\n",
    "Precision = precision_score(y_val, y_pred_val, average='weighted',zero_division=1) \n",
    "Recall = recall_score(y_val, y_pred_val, average='weighted',zero_division=1)\n",
    "f1 = f1_score(y_val, y_pred_val, average='weighted',zero_division=1)\n",
    "\n",
    "\n",
    "# Display best parameters and best estimator\n",
    "print(gnb_grid.best_params_)\n",
    "print(gnb_grid.best_estimator_)\n",
    "print(\"Accuracy:\", Accuracy)\n",
    "print(\"Precision:\", Precision)\n",
    "print(\"Recall:\", Recall)\n",
    "print(\"f1:\", f1)"
   ]
  },
  {
   "cell_type": "code",
   "execution_count": 62,
   "id": "64a633f9-8120-4653-a04b-f0cd0bb6b16a",
   "metadata": {},
   "outputs": [
    {
     "name": "stdout",
     "output_type": "stream",
     "text": [
      "{'var_smoothing': 1e-05}\n",
      "GaussianNB(var_smoothing=1e-05)\n",
      "Accuracy: 0.8210909090909091\n",
      "Precision: 0.8933190862735144\n",
      "Recall: 0.8210909090909091\n",
      "f1: 0.7784048162270465\n"
     ]
    }
   ],
   "source": [
    "# lets do a test for overfitting and underfitting\n",
    "# will do this by comparing the perfomance of the train set and the validation set\n",
    "\n",
    "\n",
    "Accuracy = gnb_grid.best_estimator_.score(train_x_resampled.toarray(), train_y_resampled)  \n",
    "y_pred = gnb_grid.best_estimator_.predict(train_x_resampled.toarray())\n",
    " \n",
    "\n",
    "Precision = precision_score(train_y_resampled, y_pred, average='weighted',zero_division=1) \n",
    "Recall = recall_score(train_y_resampled, y_pred, average='weighted',zero_division=1)\n",
    "f1 = f1_score(train_y_resampled, y_pred, average='weighted',zero_division=1)\n",
    "\n",
    "\n",
    "# Display best parameters and best estimator\n",
    "print(gnb_grid.best_params_)\n",
    "print(gnb_grid.best_estimator_)\n",
    "print(\"Accuracy:\", Accuracy)\n",
    "print(\"Precision:\", Precision)\n",
    "print(\"Recall:\", Recall)\n",
    "print(\"f1:\", f1)"
   ]
  },
  {
   "cell_type": "markdown",
   "id": "4de20cb8-b600-409a-90fe-5caf343a75e3",
   "metadata": {},
   "source": [
    "Based on the results, the train set performs more or less the same as the validation set, so can say that there is no overfitting \n",
    "\n",
    "Also with the train and validation set, model performance is relatively good, so no underfitting either"
   ]
  },
  {
   "cell_type": "markdown",
   "id": "2b728a99-9b52-4086-b1c7-448a4584f318",
   "metadata": {},
   "source": [
    "#### 4.2.4. Model 4: Random Forest"
   ]
  },
  {
   "cell_type": "code",
   "execution_count": 72,
   "id": "09f03189-8a76-468b-ab81-50ed69530a9e",
   "metadata": {},
   "outputs": [
    {
     "name": "stdout",
     "output_type": "stream",
     "text": [
      "{'max_depth': 10, 'min_samples_leaf': 4, 'min_samples_split': 5, 'n_estimators': 200}\n",
      "RandomForestClassifier(max_depth=10, min_samples_leaf=4, min_samples_split=5,\n",
      "                       n_estimators=200, random_state=42)\n",
      "Accuracy: 0.5679012345679012\n",
      "Precision: 0.9289359200470312\n",
      "Recall: 0.5679012345679012\n",
      "f1: 0.6214834225978283\n"
     ]
    }
   ],
   "source": [
    "# Random forests is an ensemble method (ensemble of decision trees)\n",
    "\n",
    "from sklearn.ensemble import RandomForestClassifier\n",
    "# Define the parameters grid for Random Forest\n",
    "parameters = {\n",
    "    'n_estimators': [100, 200],  # Number of trees in the forest\n",
    "    'max_depth': [5, 10],       # Maximum depth of the trees\n",
    "    'min_samples_split': [5, 10],   # Minimum number of samples required to split an internal node\n",
    "    'min_samples_leaf': [4,6]    # Minimum number of samples required to be at a leaf node\n",
    "}\n",
    "\n",
    "# Initialize Random Forest classifier\n",
    "rf = RandomForestClassifier(random_state=42)\n",
    "\n",
    "# Initialize GridSearchCV with parameters and cross-validation \n",
    "#stratified K-fold is used since we are dealing with an imbalanced validation set\n",
    "Strat_kfold = StratifiedKFold(n_splits=10, shuffle=True, random_state=42)\n",
    "rf_grid = GridSearchCV(rf, parameters, cv=Strat_kfold,scoring='f1_weighted')\n",
    "\n",
    "# Fit GridSearchCV to filtered training data (X_val should be the training data, y_val should be the labels)\n",
    "rf_grid.fit(train_x_resampled,train_y_resampled)\n",
    "\n",
    "# Evaluate the best estimator on the validation set and see if need to tune parameters more before evaluation phase\n",
    "Accuracy = rf_grid.best_estimator_.score(val_x_vector, y_val)  \n",
    "\n",
    "# Predict labels on the test set\n",
    "y_pred_val = rf_grid.best_estimator_.predict(val_x_vector)\n",
    " \n",
    "\n",
    "Precision = precision_score(y_val, y_pred_val, average='weighted',zero_division=1) \n",
    "Recall = recall_score(y_val, y_pred_val, average='weighted',zero_division=1)\n",
    "f1 = f1_score(y_val, y_pred_val, average='weighted')\n",
    "\n",
    "\n",
    "# Display best parameters and best estimator\n",
    "print(rf_grid.best_params_)\n",
    "print(rf_grid.best_estimator_)\n",
    "print(\"Accuracy:\", Accuracy)\n",
    "print(\"Precision:\", Precision)\n",
    "print(\"Recall:\", Recall)\n",
    "print(\"f1:\", f1)"
   ]
  },
  {
   "cell_type": "code",
   "execution_count": 73,
   "id": "0bfa1e04-f790-4e99-b545-b08fb309ab6a",
   "metadata": {},
   "outputs": [
    {
     "name": "stdout",
     "output_type": "stream",
     "text": [
      "{'max_depth': 10, 'min_samples_leaf': 4, 'min_samples_split': 5, 'n_estimators': 200}\n",
      "RandomForestClassifier(max_depth=10, min_samples_leaf=4, min_samples_split=5,\n",
      "                       n_estimators=200, random_state=42)\n",
      "Accuracy: 0.7963636363636364\n",
      "Precision: 0.8821338006575475\n",
      "Recall: 0.7963636363636364\n",
      "f1: 0.7537435578270011\n"
     ]
    }
   ],
   "source": [
    "# lets do a test for overfitting and underfitting\n",
    "# will do this by comparing the perfomance of the train set and the validation set\n",
    "\n",
    "Accuracy = rf_grid.best_estimator_.score(train_x_resampled, train_y_resampled)  \n",
    "y_pred = rf_grid.best_estimator_.predict(train_x_resampled)\n",
    " \n",
    "Precision = precision_score(train_y_resampled, y_pred, average='weighted',zero_division=1) \n",
    "Recall = recall_score(train_y_resampled, y_pred, average='weighted',zero_division=1)\n",
    "f1 = f1_score(train_y_resampled, y_pred, average='weighted',zero_division=1)\n",
    "\n",
    "# Display best parameters and best estimator\n",
    "print(rf_grid.best_params_)\n",
    "print(rf_grid.best_estimator_)\n",
    "print(\"Accuracy:\", Accuracy)\n",
    "print(\"Precision:\", Precision)\n",
    "print(\"Recall:\", Recall)\n",
    "print(\"f1:\", f1)"
   ]
  },
  {
   "cell_type": "markdown",
   "id": "a1678c69-5824-4041-a7af-d37345b8c0b3",
   "metadata": {},
   "source": [
    "Based on the results, the train set performs more or less the same as the validation set, so can say that there is no overfitting \n",
    "\n",
    "Also with the train and validation set, model performance is relatively good, so no underfitting either"
   ]
  },
  {
   "cell_type": "markdown",
   "id": "e457a339-531d-4d0f-af3f-e4d051f80970",
   "metadata": {},
   "source": [
    "# 5: Model Evaluation"
   ]
  },
  {
   "cell_type": "code",
   "execution_count": null,
   "id": "bb9e53e0-f92b-4947-a1e9-8f5b6e288a95",
   "metadata": {},
   "outputs": [],
   "source": [
    "# the random forest seems to be the best performing and will be evaluated further"
   ]
  },
  {
   "cell_type": "markdown",
   "id": "fd20035e-9bb1-4cdd-b90f-edb7a30cced5",
   "metadata": {},
   "source": [
    "#### 5.1. Mean Accuracy and Other Measures"
   ]
  },
  {
   "cell_type": "code",
   "execution_count": 75,
   "id": "f5fb9b9d-f676-486b-8fdb-cda747b2a100",
   "metadata": {},
   "outputs": [
    {
     "name": "stdout",
     "output_type": "stream",
     "text": [
      "rf_grid: 0.5\n"
     ]
    }
   ],
   "source": [
    "# .score method with the training set is used\n",
    "# best model performance is the random forest \n",
    "\n",
    "print('rf_grid:', round(dt_grid.best_estimator_.score(test_x_vector, test_y),2))\n"
   ]
  },
  {
   "cell_type": "code",
   "execution_count": 76,
   "id": "338d4c0a-aac6-4c1b-8cfa-bb59ece74d78",
   "metadata": {},
   "outputs": [
    {
     "name": "stdout",
     "output_type": "stream",
     "text": [
      "{'max_depth': 10, 'min_samples_leaf': 4, 'min_samples_split': 5, 'n_estimators': 200}\n",
      "RandomForestClassifier(max_depth=10, min_samples_leaf=4, min_samples_split=5,\n",
      "                       n_estimators=200, random_state=42)\n",
      "Accuracy: 0.5506519558676028\n",
      "Precision: 0.9358879223193165\n",
      "Recall: 0.5506519558676028\n",
      "f1: 0.5970038713417289\n"
     ]
    }
   ],
   "source": [
    "Accuracy = rf_grid.best_estimator_.score(test_x_vector, test_y)  \n",
    "y_pred = rf_grid.best_estimator_.predict(test_x_vector)\n",
    " \n",
    "Precision = precision_score(test_y, y_pred, average='weighted',zero_division=1) \n",
    "Recall = recall_score(test_y, y_pred, average='weighted',zero_division=1)\n",
    "f1 = f1_score(test_y, y_pred, average='weighted',zero_division=1)\n",
    "\n",
    "# Display best parameters and best estimator\n",
    "print(rf_grid.best_params_)\n",
    "print(rf_grid.best_estimator_)\n",
    "print(\"Accuracy:\", Accuracy)\n",
    "print(\"Precision:\", Precision)\n",
    "print(\"Recall:\", Recall)\n",
    "print(\"f1:\", f1)"
   ]
  },
  {
   "cell_type": "code",
   "execution_count": null,
   "id": "67e8cde7-0912-4409-97af-c358d90045de",
   "metadata": {},
   "outputs": [],
   "source": [
    "# overall the model is displaying overfitting due to the under-represented classes\n",
    "# lets look further at the individual classes to see this up close"
   ]
  },
  {
   "cell_type": "markdown",
   "id": "156a3bbf-2e15-4269-95ab-7e31a6b167ac",
   "metadata": {},
   "source": [
    "#### 5.2. Classification Report"
   ]
  },
  {
   "cell_type": "markdown",
   "id": "6fde07b6-03e0-43c5-bf68-49fc61ac424a",
   "metadata": {},
   "source": [
    "##### 5.2.1. Random Forest"
   ]
  },
  {
   "cell_type": "code",
   "execution_count": 90,
   "id": "cabba90c-8c7b-4c2d-a26b-507f459ec402",
   "metadata": {},
   "outputs": [
    {
     "name": "stdout",
     "output_type": "stream",
     "text": [
      "Classification Report:\n",
      "                   precision    recall  f1-score     support\n",
      "adhesion            1.000000  0.900000  0.947368   10.000000\n",
      "aeration            0.500000  1.000000  0.666667    1.000000\n",
      "alkaline burn       1.000000  0.000000  0.000000    1.000000\n",
      "appearance          1.000000  0.000000  0.000000    1.000000\n",
      "application         1.000000  0.000000  0.000000    7.000000\n",
      "bitty               0.456790  0.973684  0.621849   38.000000\n",
      "bleeding            1.000000  0.000000  0.000000    3.000000\n",
      "blistering          1.000000  1.000000  1.000000    7.000000\n",
      "brush marking       1.000000  1.000000  1.000000    1.000000\n",
      "bubbles             1.000000  0.000000  0.000000    1.000000\n",
      "colour              0.976744  0.807692  0.884211  104.000000\n",
      "container           0.000000  0.000000  0.000000    2.000000\n",
      "contaminated        1.000000  0.000000  0.000000    3.000000\n",
      "cracking            1.000000  1.000000  1.000000    5.000000\n",
      "cratering           1.000000  0.000000  0.000000    1.000000\n",
      "drying              1.000000  0.047619  0.090909   42.000000\n",
      "fading              0.666667  1.000000  0.800000    2.000000\n",
      "fill level          1.000000  0.000000  0.000000   11.000000\n",
      "filling             0.222222  0.250000  0.235294    8.000000\n",
      "fish eye            1.000000  1.000000  1.000000   10.000000\n",
      "floatation          1.000000  1.000000  1.000000    3.000000\n",
      "gel time            0.000000  1.000000  0.000000    0.000000\n",
      "gell strength       1.000000  1.000000  1.000000    2.000000\n",
      "gelled              0.950000  0.193878  0.322034  196.000000\n",
      "gloss               1.000000  0.625000  0.769231   24.000000\n",
      "incorrect product   0.333333  1.000000  0.500000    2.000000\n",
      "labelling           0.977273  0.843137  0.905263   51.000000\n",
      "low time            0.035088  1.000000  0.067797    2.000000\n",
      "lumpy               0.805556  1.000000  0.892308   29.000000\n",
      "n pr level          0.000000  1.000000  0.000000    0.000000\n",
      "odour               1.000000  0.000000  0.000000    3.000000\n",
      "opacity             0.952381  1.000000  0.975610   20.000000\n",
      "other               0.400000  1.000000  0.571429    2.000000\n",
      "overfilled          1.000000  0.000000  0.000000    1.000000\n",
      "packaging           0.979310  0.820809  0.893082  173.000000\n",
      "peeling             1.000000  1.000000  1.000000   16.000000\n",
      "poor application    0.000000  1.000000  0.000000    0.000000\n",
      "product             1.000000  0.000000  0.000000    1.000000\n",
      "rotten              1.000000  0.000000  0.000000   65.000000\n",
      "separation          1.000000  0.000000  0.000000    5.000000\n",
      "settlement          1.000000  1.000000  1.000000    8.000000\n",
      "skinning            0.973684  0.770833  0.860465   48.000000\n",
      "slow drying         0.000000  1.000000  0.000000    0.000000\n",
      "syneresis           0.400000  1.000000  0.571429    4.000000\n",
      "texture             0.000000  1.000000  0.000000    0.000000\n",
      "underfilled         0.142857  1.000000  0.250000    2.000000\n",
      "viscosity           1.000000  0.275000  0.431373   80.000000\n",
      "washability         0.000000  1.000000  0.000000    0.000000\n",
      "wrinkling           1.000000  1.000000  1.000000    1.000000\n",
      "wrong product       0.000000  1.000000  0.000000    0.000000\n",
      "yellowing           0.500000  1.000000  0.666667    1.000000\n",
      "accuracy            0.550652  0.550652  0.550652    0.550652\n",
      "macro avg           0.711214  0.637405  0.429862  997.000000\n",
      "weighted avg        0.935888  0.550652  0.597004  997.000000\n"
     ]
    }
   ],
   "source": [
    "from sklearn.metrics import classification_report\n",
    "\n",
    "# Use the best estimator obtained from GridSearchCV\n",
    "best_rf = rf_grid.best_estimator_\n",
    "\n",
    "# Predict labels on the test set\n",
    "predicted_labels = best_rf.predict(test_x_vector)\n",
    "\n",
    "# Generate a classification report\n",
    "report = classification_report(test_y, predicted_labels, output_dict=True,zero_division=1)\n",
    "\n",
    "# Convert the report dictionary to a DataFrame\n",
    "df_report = pd.DataFrame(report).transpose()\n",
    "\n",
    "# Adjust pandas display settings to show all columns\n",
    "pd.set_option('display.max_columns', None)\n",
    "pd.set_option('display.max_rows', None)\n",
    "\n",
    "# Print the report in table form with averages\n",
    "print(\"Classification Report:\")\n",
    "print(df_report)"
   ]
  },
  {
   "cell_type": "markdown",
   "id": "8548eace-edcc-4dea-a9b8-14daf903efba",
   "metadata": {},
   "source": [
    "As can be seen, the model is good at predicting certain classes. Under-represented classes however are poorly represented. More data is required to improve the overall model accuracy."
   ]
  },
  {
   "cell_type": "markdown",
   "id": "c0186d07-1172-4830-93ac-e947e6249c38",
   "metadata": {},
   "source": [
    "#### 5.3. Confusion Matrix"
   ]
  },
  {
   "cell_type": "markdown",
   "id": "68ca7a1b-a5ae-4ccd-8d42-a0bbbfaaec8c",
   "metadata": {},
   "source": [
    "##### 5.3.1. Random Forest"
   ]
  },
  {
   "cell_type": "code",
   "execution_count": 87,
   "id": "41f56c75-5117-4c23-837c-29bcb0014dd3",
   "metadata": {},
   "outputs": [
    {
     "data": {
      "image/png": "[encoded data removed]",
      "text/plain": [
       "<Figure size 720x576 with 2 Axes>"
      ]
     },
     "metadata": {
      "needs_background": "light"
     },
     "output_type": "display_data"
    }
   ],
   "source": [
    "# Random Forest\n",
    "\n",
    "from sklearn.metrics import confusion_matrix\n",
    "import matplotlib.pyplot as plt\n",
    "import seaborn as sns\n",
    "\n",
    "# Assuming svc_grid.best_estimator_ is the best SVM classifier obtained from GridSearchCV\n",
    "best_rf= rf_grid.best_estimator_\n",
    "\n",
    "# Predict labels on the test set\n",
    "y_pred = best_rf.predict(test_x_vector.toarray())\n",
    "\n",
    "# Get unique class labels from the predicted and true labels\n",
    "classes = sorted(set(test_y) | set(y_pred))\n",
    "\n",
    "# Compute confusion matrix\n",
    "cm = confusion_matrix(test_y, y_pred)\n",
    "\n",
    "# Plot confusion matrix as a heatmap\n",
    "plt.figure(figsize=(10, 8))\n",
    "sns.heatmap(cm, annot=True, fmt='d', cmap='Blues', \n",
    "            xticklabels=classes, yticklabels=classes)\n",
    "plt.xlabel('Predicted Labels')\n",
    "plt.ylabel('True Labels')\n",
    "plt.title('Confusion Matrix')\n",
    "plt.show()"
   ]
  },
  {
   "cell_type": "markdown",
   "id": "cbd7efc1-3913-43b4-b902-232a4cba6774",
   "metadata": {},
   "source": [
    "The confusion matrix shows the number of correctly predicted cases e.g. the issue of bittyness was correctly predicted 37 times. If you look at the analysis before oversampling - this class had one of the highest data points. This re-confirms that the model is good at predicting certain classes. There was one case of it being predicted incorrectly. Drying is an example of a class where the model performs poorly. All cases were incorrectly predicted. Before oversampling, this class had one of the lowest data points. "
   ]
  },
  {
   "cell_type": "markdown",
   "id": "d3450860-fdd8-4193-8ae6-3b6f934d73fe",
   "metadata": {},
   "source": [
    "Even with oversampling - the data is not reliable enough to assist the model. More data is required to improve the random forest model chosen."
   ]
  },
  {
   "cell_type": "markdown",
   "id": "dcf14c33-45f0-491b-b01d-83f8020bb6ad",
   "metadata": {},
   "source": [
    "# Step 6: Model Deployment "
   ]
  },
  {
   "cell_type": "code",
   "execution_count": null,
   "id": "7a560c9b-9e3c-4dac-a2b6-cd730598f491",
   "metadata": {},
   "outputs": [],
   "source": []
  }
 ],
 "metadata": {
  "kernelspec": {
   "display_name": "Python 3 (ipykernel)",
   "language": "python",
   "name": "python3"
  },
  "language_info": {
   "codemirror_mode": {
    "name": "ipython",
    "version": 3
   },
   "file_extension": ".py",
   "mimetype": "text/x-python",
   "name": "python",
   "nbconvert_exporter": "python",
   "pygments_lexer": "ipython3",
   "version": "3.9.12"
  }
 },
 "nbformat": 4,
 "nbformat_minor": 5
}
