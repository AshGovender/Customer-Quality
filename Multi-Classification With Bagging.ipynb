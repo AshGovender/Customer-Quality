{
 "cells": [
  {
   "cell_type": "markdown",
   "id": "fdc19fac-bc29-4f8d-855d-88a930e8ec16",
   "metadata": {},
   "source": [
    "# STEP 1: Business Understanding"
   ]
  },
  {
   "cell_type": "markdown",
   "id": "ad923f66-9274-4d39-8bf9-f00a9ffae4b4",
   "metadata": {},
   "source": [
    " Our goal is to find which machine learning model is best suited to predict sentiment (output) given a customer quality complaint (input).\n",
    " This will enable the quality department to quickly identify which customer related grouping is the most problematic and address formulation issues accordingly\n",
    " Help us identify what keywords customers associate with different types of formulation issues"
   ]
  },
  {
   "cell_type": "markdown",
   "id": "c706747b-807a-4673-9ce1-626ff170bb89",
   "metadata": {},
   "source": [
    "# STEP 2: Analytical Approach, Data Requirement,Data Collection and Data Understanding"
   ]
  },
  {
   "cell_type": "markdown",
   "id": "e37e5592-303a-4dde-830e-b605bb99921f",
   "metadata": {},
   "source": [
    "2.1. Analytical Approach: Multi-Class Classification using SVM, Decision Tree, Naive Bayes and Logistic Regression using bag of words as the text representation technique since we are concerned with the words but not their order"
   ]
  },
  {
   "cell_type": "markdown",
   "id": "74017e3e-2e68-43c1-a11c-8a35f2ffb84e",
   "metadata": {},
   "source": [
    "2.2. Data Requirements : Require labelled dataset showing different quality reason codes associated with different customer complaint descriptions. The complaint descriptions will needs to be converted from text to numerical values before being used in the classification models. The reviews need to be formatted prior to conversion using the text representation technique"
   ]
  },
  {
   "cell_type": "markdown",
   "id": "d3dd531c-b85a-41e6-8283-d06824eb59ab",
   "metadata": {},
   "source": [
    "2.3. Data collection:\n",
    " > Data set is from the customer complaints department containing 3022 entries\n",
    " > No sql required for database extraction\n",
    " > The dataset contains 2 columns (customer complaint and complaint grouping) that will help us identify what customer description falls under which complaint grouping\n"
   ]
  },
  {
   "cell_type": "markdown",
   "id": "17417d9f-e1f6-4ead-a3e2-a0827c5efc7d",
   "metadata": {},
   "source": [
    "##### 2.4. Data Understanding (Exploratory Data Analysis/Descriptive statistics/data visualization)"
   ]
  },
  {
   "cell_type": "code",
   "execution_count": 1,
   "id": "76cde223-2ba9-4c3d-b194-fbad4aae726c",
   "metadata": {},
   "outputs": [
    {
     "name": "stdout",
     "output_type": "stream",
     "text": [
      "                                        Reason Reason group\n",
      "0                                Lumpy product        Lumpy\n",
      "1                                Lumpy product        Lumpy\n",
      "2                     Incorrect product inside       Colour\n",
      "3      Colour not matching Product Colour Card       Colour\n",
      "4     Colour not matching product Colour guide       Colour\n",
      "...                                        ...          ...\n",
      "3016                             Viscosity Low    Viscosity\n",
      "3017                          Washability poor        Bitty\n",
      "3018                         Yellowing Product    Yellowing\n",
      "3019                         Yellowing Product    Yellowing\n",
      "3020                         Yellowing Product    Yellowing\n",
      "\n",
      "[3021 rows x 2 columns]\n"
     ]
    }
   ],
   "source": [
    "# Read the dataset\n",
    "\n",
    "import pandas as pd  \n",
    "pd.set_option('display.max_columns', 2) \n",
    "df_Complaints= pd.read_excel('CustomerComplaints.xlsx') \n",
    "df_Complaints.head(10) \n",
    "print(df_Complaints) \n",
    "\n",
    "\n"
   ]
  },
  {
   "cell_type": "markdown",
   "id": "6e6405bb-80b2-4bd9-b82e-223780d48d1d",
   "metadata": {},
   "source": [
    "> As can be seen the data consists of 3020 rows\n",
    "> will take a subset for modelling\n"
   ]
  },
  {
   "cell_type": "code",
   "execution_count": 2,
   "id": "7f12fb04-b663-491b-bfab-d9f93b388894",
   "metadata": {},
   "outputs": [
    {
     "data": {
      "text/plain": [
       "Reason          object\n",
       "Reason group    object\n",
       "dtype: object"
      ]
     },
     "execution_count": 2,
     "metadata": {},
     "output_type": "execute_result"
    }
   ],
   "source": [
    "# Check the datatype of each column to identify if columns have numerical or categorical variables which is important before cleaning the data\n",
    "df_Complaints.dtypes"
   ]
  },
  {
   "cell_type": "code",
   "execution_count": 3,
   "id": "852d0b0f-f7cf-4b38-87c6-8d554edf84dc",
   "metadata": {},
   "outputs": [
    {
     "data": {
      "text/html": [
       "<div>\n",
       "<style scoped>\n",
       "    .dataframe tbody tr th:only-of-type {\n",
       "        vertical-align: middle;\n",
       "    }\n",
       "\n",
       "    .dataframe tbody tr th {\n",
       "        vertical-align: top;\n",
       "    }\n",
       "\n",
       "    .dataframe thead th {\n",
       "        text-align: right;\n",
       "    }\n",
       "</style>\n",
       "<table border=\"1\" class=\"dataframe\">\n",
       "  <thead>\n",
       "    <tr style=\"text-align: right;\">\n",
       "      <th></th>\n",
       "      <th>Reason</th>\n",
       "      <th>Reason group</th>\n",
       "    </tr>\n",
       "  </thead>\n",
       "  <tbody>\n",
       "    <tr>\n",
       "      <th>count</th>\n",
       "      <td>3021</td>\n",
       "      <td>3019</td>\n",
       "    </tr>\n",
       "    <tr>\n",
       "      <th>unique</th>\n",
       "      <td>109</td>\n",
       "      <td>99</td>\n",
       "    </tr>\n",
       "    <tr>\n",
       "      <th>top</th>\n",
       "      <td>Gelled</td>\n",
       "      <td>Gelled</td>\n",
       "    </tr>\n",
       "    <tr>\n",
       "      <th>freq</th>\n",
       "      <td>468</td>\n",
       "      <td>365</td>\n",
       "    </tr>\n",
       "  </tbody>\n",
       "</table>\n",
       "</div>"
      ],
      "text/plain": [
       "        Reason Reason group\n",
       "count     3021         3019\n",
       "unique     109           99\n",
       "top     Gelled       Gelled\n",
       "freq       468          365"
      ]
     },
     "execution_count": 3,
     "metadata": {},
     "output_type": "execute_result"
    }
   ],
   "source": [
    "# Find the description of the dataset\n",
    "pd.set_option('display.max_rows', None)\n",
    "df_Complaints.describe()\n",
    "\n",
    "# what does this tell you: 3021 reasons for customer complaints and 3019 reason groups. 99 unique reason codes and 109 unique reasons. Top issue is gelling."
   ]
  },
  {
   "cell_type": "code",
   "execution_count": 4,
   "id": "4123c4c4-a5ea-47d6-8188-e97f5c7d238d",
   "metadata": {},
   "outputs": [
    {
     "name": "stdout",
     "output_type": "stream",
     "text": [
      "<class 'pandas.core.frame.DataFrame'>\n",
      "RangeIndex: 3021 entries, 0 to 3020\n",
      "Data columns (total 2 columns):\n",
      " #   Column        Non-Null Count  Dtype \n",
      "---  ------        --------------  ----- \n",
      " 0   Reason        3021 non-null   object\n",
      " 1   Reason group  3019 non-null   object\n",
      "dtypes: object(2)\n",
      "memory usage: 47.3+ KB\n"
     ]
    }
   ],
   "source": [
    "# find a summary of the dataset\n",
    "import pandas as pd\n",
    "pd.set_option('display.max_rows', 40)\n",
    "df_Complaints.info()\n",
    "\n",
    "# all columns have non-null values"
   ]
  },
  {
   "cell_type": "markdown",
   "id": "65041161-938d-4b39-bbfb-01011a521ff7",
   "metadata": {},
   "source": [
    "# STEP 3: DATA PREPARATION (Python or SQL)"
   ]
  },
  {
   "cell_type": "markdown",
   "id": "a2104d0b-f96f-4e88-8c6d-c3a73fd25c9c",
   "metadata": {},
   "source": [
    "####               3.1. OVERSAMPLING AND UNDERSAMPLING (OPTIONAL DEPENDING IF REQUIRED) "
   ]
  },
  {
   "cell_type": "code",
   "execution_count": 5,
   "id": "fd9648e5-422d-441e-98ee-e3bd75f56047",
   "metadata": {},
   "outputs": [
    {
     "data": {
      "image/png": "[encoded data removed]",
      "text/plain": [
       "<Figure size 1296x360 with 1 Axes>"
      ]
     },
     "metadata": {
      "needs_background": "light"
     },
     "output_type": "display_data"
    }
   ],
   "source": [
    "#No oversamling or undersampling is required\n",
    "\n",
    "import matplotlib.pyplot as plt  # import pyplot to draw bar graph\n",
    "\n",
    "f, ax = plt.subplots(figsize=(18,5))\n",
    "\n",
    "font1 = {'family':'serif','color':'blue','size':10}      \n",
    "font2 = {'family':'serif','color':'darkred','size':15}\n",
    "\n",
    "plt.suptitle(\"Customer Complaints\",fontdict = font1)     \n",
    "df_gb = df_Complaints.groupby(['Reason group']).size()\n",
    "\n",
    "df_gb.plot.bar()\n",
    "plt.show()   "
   ]
  },
  {
   "cell_type": "markdown",
   "id": "75a014aa-e867-40e6-bbb9-75c83f98d615",
   "metadata": {},
   "source": [
    "#### 3.2. CLEAN THE DATA"
   ]
  },
  {
   "cell_type": "code",
   "execution_count": 6,
   "id": "99ee52a2-d8b7-4e8e-aa0b-437e6cda6188",
   "metadata": {},
   "outputs": [
    {
     "name": "stdout",
     "output_type": "stream",
     "text": [
      "Reason: 0.0%\n",
      "Reason group: 0.07%\n"
     ]
    }
   ],
   "source": [
    "# find all missing data\n",
    "df_Complaints.isnull().sum().sort_values(ascending=False)   # counts null values and arranges columns in ascending order with the most missing values\n",
    "\n",
    "# in percentage form\n",
    "\n",
    "# % of rows missing in each column\n",
    "for column in df_Complaints.columns:   # loops through columns in dataframe\n",
    "    percentage = df_Complaints[column].isnull().mean()   # find the percentage of each null value\n",
    "    print(f'{column}: {round(percentage*100, 2)}%')   # rounds percentage to 2 decimal places. Using F string to seperate value from string\n",
    "    \n",
    "# For the given dataset there are missing Reason group values"
   ]
  },
  {
   "cell_type": "code",
   "execution_count": 7,
   "id": "6c054c24-66d0-4558-a851-5083313cc32e",
   "metadata": {},
   "outputs": [
    {
     "data": {
      "text/html": [
       "<div>\n",
       "<style scoped>\n",
       "    .dataframe tbody tr th:only-of-type {\n",
       "        vertical-align: middle;\n",
       "    }\n",
       "\n",
       "    .dataframe tbody tr th {\n",
       "        vertical-align: top;\n",
       "    }\n",
       "\n",
       "    .dataframe thead th {\n",
       "        text-align: right;\n",
       "    }\n",
       "</style>\n",
       "<table border=\"1\" class=\"dataframe\">\n",
       "  <thead>\n",
       "    <tr style=\"text-align: right;\">\n",
       "      <th></th>\n",
       "      <th>Reason</th>\n",
       "      <th>Reason group</th>\n",
       "    </tr>\n",
       "  </thead>\n",
       "  <tbody>\n",
       "    <tr>\n",
       "      <th>count</th>\n",
       "      <td>3019</td>\n",
       "      <td>3019</td>\n",
       "    </tr>\n",
       "    <tr>\n",
       "      <th>unique</th>\n",
       "      <td>109</td>\n",
       "      <td>99</td>\n",
       "    </tr>\n",
       "    <tr>\n",
       "      <th>top</th>\n",
       "      <td>Gelled</td>\n",
       "      <td>Gelled</td>\n",
       "    </tr>\n",
       "    <tr>\n",
       "      <th>freq</th>\n",
       "      <td>468</td>\n",
       "      <td>365</td>\n",
       "    </tr>\n",
       "  </tbody>\n",
       "</table>\n",
       "</div>"
      ],
      "text/plain": [
       "        Reason Reason group\n",
       "count     3019         3019\n",
       "unique     109           99\n",
       "top     Gelled       Gelled\n",
       "freq       468          365"
      ]
     },
     "execution_count": 7,
     "metadata": {},
     "output_type": "execute_result"
    }
   ],
   "source": [
    "#Dealing with missing values will be done by removing the rows that have missing values since there are few entries\n",
    "\n",
    "df_Complaints = df_Complaints.dropna(subset=['Reason group'])   #dropna can automatically drop the null values in the row\n",
    "\n",
    "df_Complaints.describe() "
   ]
  },
  {
   "cell_type": "code",
   "execution_count": 8,
   "id": "d1b06515-068a-4e44-8eb6-6504177b0d6e",
   "metadata": {},
   "outputs": [
    {
     "data": {
      "text/plain": [
       "Reason          0\n",
       "Reason group    0\n",
       "dtype: int64"
      ]
     },
     "execution_count": 8,
     "metadata": {},
     "output_type": "execute_result"
    }
   ],
   "source": [
    "df_Complaints.isnull().sum().sort_values(ascending=False)\n",
    "# as can be seen new dataframe has no null values"
   ]
  },
  {
   "cell_type": "code",
   "execution_count": 9,
   "id": "45133fa9-2f68-4e35-b916-c1aef8be2ce3",
   "metadata": {},
   "outputs": [
    {
     "name": "stdout",
     "output_type": "stream",
     "text": [
      "Requirement already satisfied: nltk in c:\\users\\pragesh.govender\\anaconda3\\lib\\site-packages (3.7)Note: you may need to restart the kernel to use updated packages.\n",
      "Requirement already satisfied: click in c:\\users\\pragesh.govender\\anaconda3\\lib\\site-packages (from nltk) (8.0.4)\n",
      "Requirement already satisfied: tqdm in c:\\users\\pragesh.govender\\anaconda3\\lib\\site-packages (from nltk) (4.64.0)\n",
      "Requirement already satisfied: joblib in c:\\users\\pragesh.govender\\anaconda3\\lib\\site-packages (from nltk) (1.1.0)\n",
      "Requirement already satisfied: regex>=2021.8.3 in c:\\users\\pragesh.govender\\anaconda3\\lib\\site-packages (from nltk) (2022.3.15)\n",
      "Requirement already satisfied: colorama in c:\\users\\pragesh.govender\\anaconda3\\lib\\site-packages (from click->nltk) (0.4.4)\n",
      "\n"
     ]
    }
   ],
   "source": [
    "pip install nltk"
   ]
  },
  {
   "cell_type": "code",
   "execution_count": 10,
   "id": "e1fa0bd7-2a00-4228-8c38-9b7741475d2a",
   "metadata": {},
   "outputs": [
    {
     "name": "stderr",
     "output_type": "stream",
     "text": [
      "[nltk_data] Downloading package punkt to\n",
      "[nltk_data]     C:\\Users\\Pragesh.govender\\AppData\\Roaming\\nltk_data...\n",
      "[nltk_data]   Package punkt is already up-to-date!\n",
      "[nltk_data] Downloading package stopwords to\n",
      "[nltk_data]     C:\\Users\\Pragesh.govender\\AppData\\Roaming\\nltk_data...\n",
      "[nltk_data]   Package stopwords is already up-to-date!\n",
      "[nltk_data] Downloading package wordnet to\n",
      "[nltk_data]     C:\\Users\\Pragesh.govender\\AppData\\Roaming\\nltk_data...\n",
      "[nltk_data]   Package wordnet is already up-to-date!\n",
      "[nltk_data] Downloading package omw-1.4 to\n",
      "[nltk_data]     C:\\Users\\Pragesh.govender\\AppData\\Roaming\\nltk_data...\n",
      "[nltk_data]   Package omw-1.4 is already up-to-date!\n"
     ]
    },
    {
     "data": {
      "text/plain": [
       "True"
      ]
     },
     "execution_count": 10,
     "metadata": {},
     "output_type": "execute_result"
    }
   ],
   "source": [
    "import nltk\n",
    "nltk.download('punkt')\n",
    "nltk.download('stopwords')\n",
    "nltk.download('wordnet')\n",
    "nltk.download('omw-1.4')"
   ]
  },
  {
   "cell_type": "code",
   "execution_count": 11,
   "id": "7c84bfd2-ef47-4df5-911c-6b89ea84ce0e",
   "metadata": {},
   "outputs": [
    {
     "name": "stdout",
     "output_type": "stream",
     "text": [
      "                                     Reason  ...  \\\n",
      "0                             lumpy product  ...   \n",
      "1                             lumpy product  ...   \n",
      "2                  incorrect product inside  ...   \n",
      "3   colour not matching product colour card  ...   \n",
      "4  colour not matching product colour guide  ...   \n",
      "\n",
      "                               tokenized_text  \n",
      "0                            [lumpy, product]  \n",
      "1                            [lumpy, product]  \n",
      "2                [incorrect, product, inside]  \n",
      "3   [colour, matching, product, colour, card]  \n",
      "4  [colour, matching, product, colour, guide]  \n",
      "\n",
      "[5 rows x 3 columns]\n"
     ]
    }
   ],
   "source": [
    "\n",
    "from nltk.tokenize import word_tokenize\n",
    "from nltk.corpus import stopwords\n",
    "from nltk.stem import PorterStemmer, WordNetLemmatizer\n",
    "import string\n",
    "\n",
    "# Make a copy of the DataFrame to avoid unintentional copy issues\n",
    "df_normalized = df_Complaints.copy()\n",
    "\n",
    "# Normalize 'Reason' column: Convert to lowercase and remove whitespace/punctuation\n",
    "df_normalized['Reason'] = df_normalized['Reason'].apply(lambda x: x.lower().strip())\n",
    "df_normalized['Reason'] = df_normalized['Reason'].apply(lambda x: x.translate(str.maketrans('', '', string.punctuation)))\n",
    "\n",
    "# Normalize 'Reason group' column: Convert to lowercase and remove whitespace/punctuation\n",
    "df_normalized['Reason group'] = df_normalized['Reason group'].apply(lambda x: x.lower().strip())\n",
    "df_normalized['Reason group'] = df_normalized['Reason group'].apply(lambda x: x.translate(str.maketrans('', '', string.punctuation)))\n",
    "\n",
    "# Tokenization: Tokenize 'Reason' column\n",
    "df_normalized['tokenized_text'] = df_normalized['Reason'].apply(word_tokenize)\n",
    "\n",
    "# Stopword Removal: Remove stopwords from 'tokenized_text' column\n",
    "stop_words = set(stopwords.words('english'))\n",
    "df_normalized['tokenized_text'] = df_normalized['tokenized_text'].apply(lambda tokens: [token for token in tokens if token not in stop_words])\n",
    "\n",
    "# Stemming or Lemmatization: Apply lemmatization to 'tokenized_text' column\n",
    "lemmatizer = WordNetLemmatizer()\n",
    "df_normalized['tokenized_text'] = df_normalized['tokenized_text'].apply(lambda tokens: [lemmatizer.lemmatize(token) for token in tokens])\n",
    "\n",
    "# Display the updated DataFrame with normalized and tokenized text\n",
    "print(df_normalized.head())"
   ]
  },
  {
   "cell_type": "markdown",
   "id": "b5fcd9a7-16ff-4435-aa37-6149e99da7fa",
   "metadata": {},
   "source": [
    "# STEP 4: TRAINING OF MODEL ON PYTHON"
   ]
  },
  {
   "cell_type": "markdown",
   "id": "4a1e2bf1-6e35-44a8-af80-9a1260fbdfe4",
   "metadata": {},
   "source": [
    "#### 4.1. Split data into train and test set"
   ]
  },
  {
   "cell_type": "code",
   "execution_count": 12,
   "id": "2a7d70b8-6d00-47d4-9b63-f8731658740f",
   "metadata": {},
   "outputs": [],
   "source": [
    "#Before we work with our data, we need to split it into a train and test set. \n",
    "#The train dataset will be used to fit the model,\n",
    "# while the test dataset will be used to provide an unbiased evaluation of a final model fit on the training dataset.\n",
    "\n",
    "from sklearn.model_selection import train_test_split\n",
    "train, test = train_test_split(df_normalized, test_size=0.33, random_state=42)  #33% to test the data\n",
    "\n",
    "#set independent and dependent variables in the train and test set\n",
    "train_x, train_y = train['Reason'], train['Reason group']   #y is the target variable that needs to be predicted by the model\n",
    "test_x, test_y = test['Reason'], test['Reason group']\n",
    "\n"
   ]
  },
  {
   "cell_type": "markdown",
   "id": "90a15222-cc4d-48bb-a9ff-0a2b5348b988",
   "metadata": {},
   "source": [
    "#### 4.2. Turning Text Data Into Numerical Values"
   ]
  },
  {
   "cell_type": "code",
   "execution_count": 13,
   "id": "52a40422-c114-4db7-8133-95598c2d43df",
   "metadata": {},
   "outputs": [
    {
     "data": {
      "text/plain": [
       "<2022x143 sparse matrix of type '<class 'numpy.float64'>'\n",
       "\twith 4315 stored elements in Compressed Sparse Row format>"
      ]
     },
     "execution_count": 13,
     "metadata": {},
     "output_type": "execute_result"
    }
   ],
   "source": [
    "# need to turn customer complaint terms into numerical values for classifier/learning algorithm\n",
    "# various text representation techniques such as one-hot-coding, bag of words, wor2vec\n",
    "# bag of words will be used as the technique since we care about the frequency of words in the text review and order of words is irrelevant\n",
    "# can be represented as Countervectorizer and Term Frequency, Inverse Document Frequency (TF-IDF)\n",
    "# In our original dataset, we want to identify unique/representative words for each quality reason grouping, so we’ll choose the TF-IDF. To turn text data into numerical vectors with TF-IDF, we write the following code.\n",
    "\n",
    "from sklearn.feature_extraction.text import TfidfVectorizer      \n",
    "\n",
    "train, test = train_test_split(df_normalized, test_size=0.33, random_state=42)  #copied from above\n",
    "\n",
    "#set independent and dependent variables in the train and test set\n",
    "train_x, train_y = train['Reason'], train['Reason group']   \n",
    "test_x, test_y = test['Reason'], test['Reason group']      \n",
    "\n",
    "\n",
    "tfidf = TfidfVectorizer(stop_words='english')\n",
    "# Note: We could better prepare the text data in order to develop better models \n",
    "# by using tokenization and removing extra words we consider irrelevant apart from the \n",
    "#stopword list CountVectorizer and Tfidf have by default. \n",
    "# Check the article below for more information about tokenization with Python [https://towardsdatascience.com/5-simple-ways-to-tokenize-text-in-python-92c6804edfc4]\n",
    "\n",
    "\n",
    "train_x_vector = tfidf.fit_transform(train_x)\n",
    "train_x_vector\n",
    "\n",
    "#In the code above, we create a new instance of TfidfVectorizer(tfidf),\n",
    "#we removed English stopwords and then fit (finds the internal parameters of a model) \n",
    "#and transform (applies the parameters to the data) the train_x (customer complaints)\n"
   ]
  },
  {
   "cell_type": "code",
   "execution_count": 14,
   "id": "ba6978ee-24f2-4690-b721-5d42423b407d",
   "metadata": {},
   "outputs": [
    {
     "data": {
      "text/html": [
       "<div>\n",
       "<style scoped>\n",
       "    .dataframe tbody tr th:only-of-type {\n",
       "        vertical-align: middle;\n",
       "    }\n",
       "\n",
       "    .dataframe tbody tr th {\n",
       "        vertical-align: top;\n",
       "    }\n",
       "\n",
       "    .dataframe thead th {\n",
       "        text-align: right;\n",
       "    }\n",
       "</style>\n",
       "<table border=\"1\" class=\"dataframe\">\n",
       "  <thead>\n",
       "    <tr style=\"text-align: right;\">\n",
       "      <th></th>\n",
       "      <th>adhering</th>\n",
       "      <th>...</th>\n",
       "      <th>yellowing</th>\n",
       "    </tr>\n",
       "  </thead>\n",
       "  <tbody>\n",
       "    <tr>\n",
       "      <th>1271</th>\n",
       "      <td>0.0</td>\n",
       "      <td>...</td>\n",
       "      <td>0.0</td>\n",
       "    </tr>\n",
       "    <tr>\n",
       "      <th>644</th>\n",
       "      <td>0.0</td>\n",
       "      <td>...</td>\n",
       "      <td>0.0</td>\n",
       "    </tr>\n",
       "    <tr>\n",
       "      <th>2957</th>\n",
       "      <td>0.0</td>\n",
       "      <td>...</td>\n",
       "      <td>0.0</td>\n",
       "    </tr>\n",
       "    <tr>\n",
       "      <th>945</th>\n",
       "      <td>0.0</td>\n",
       "      <td>...</td>\n",
       "      <td>0.0</td>\n",
       "    </tr>\n",
       "    <tr>\n",
       "      <th>1178</th>\n",
       "      <td>0.0</td>\n",
       "      <td>...</td>\n",
       "      <td>0.0</td>\n",
       "    </tr>\n",
       "    <tr>\n",
       "      <th>...</th>\n",
       "      <td>...</td>\n",
       "      <td>...</td>\n",
       "      <td>...</td>\n",
       "    </tr>\n",
       "    <tr>\n",
       "      <th>1639</th>\n",
       "      <td>0.0</td>\n",
       "      <td>...</td>\n",
       "      <td>0.0</td>\n",
       "    </tr>\n",
       "    <tr>\n",
       "      <th>1096</th>\n",
       "      <td>0.0</td>\n",
       "      <td>...</td>\n",
       "      <td>0.0</td>\n",
       "    </tr>\n",
       "    <tr>\n",
       "      <th>1131</th>\n",
       "      <td>0.0</td>\n",
       "      <td>...</td>\n",
       "      <td>0.0</td>\n",
       "    </tr>\n",
       "    <tr>\n",
       "      <th>1295</th>\n",
       "      <td>0.0</td>\n",
       "      <td>...</td>\n",
       "      <td>0.0</td>\n",
       "    </tr>\n",
       "    <tr>\n",
       "      <th>861</th>\n",
       "      <td>0.0</td>\n",
       "      <td>...</td>\n",
       "      <td>0.0</td>\n",
       "    </tr>\n",
       "  </tbody>\n",
       "</table>\n",
       "<p>2022 rows × 143 columns</p>\n",
       "</div>"
      ],
      "text/plain": [
       "      adhering  ...  yellowing\n",
       "1271       0.0  ...        0.0\n",
       "644        0.0  ...        0.0\n",
       "2957       0.0  ...        0.0\n",
       "945        0.0  ...        0.0\n",
       "1178       0.0  ...        0.0\n",
       "...        ...  ...        ...\n",
       "1639       0.0  ...        0.0\n",
       "1096       0.0  ...        0.0\n",
       "1131       0.0  ...        0.0\n",
       "1295       0.0  ...        0.0\n",
       "861        0.0  ...        0.0\n",
       "\n",
       "[2022 rows x 143 columns]"
      ]
     },
     "execution_count": 14,
     "metadata": {},
     "output_type": "execute_result"
    }
   ],
   "source": [
    "#Matrix displayed visually\n",
    "pd.DataFrame.sparse.from_spmatrix(train_x_vector,\n",
    "                                  index=train_x.index,\n",
    "                                  columns=tfidf.get_feature_names_out())"
   ]
  },
  {
   "cell_type": "code",
   "execution_count": 15,
   "id": "c999a14c-bb3b-48d2-a522-46e8d88853d8",
   "metadata": {},
   "outputs": [
    {
     "name": "stdout",
     "output_type": "stream",
     "text": [
      "Type of train_x_vector: <class 'scipy.sparse.csr.csr_matrix'>\n",
      "Contains strings in train_x_vector: False\n"
     ]
    }
   ],
   "source": [
    "# Check the datatype of train_x_vector\n",
    "print(\"Type of train_x_vector:\", type(train_x_vector))\n",
    "\n",
    "# Check if train_x_vector contains any non-numeric values\n",
    "contains_strings = any(isinstance(val, str) for val in train_x_vector)\n",
    "print(\"Contains strings in train_x_vector:\", contains_strings)"
   ]
  },
  {
   "cell_type": "code",
   "execution_count": 16,
   "id": "21b37c90-f9e6-4a0e-be15-00dd856aa2ce",
   "metadata": {},
   "outputs": [
    {
     "data": {
      "text/plain": [
       "<997x143 sparse matrix of type '<class 'numpy.float64'>'\n",
       "\twith 2122 stored elements in Compressed Sparse Row format>"
      ]
     },
     "execution_count": 16,
     "metadata": {},
     "output_type": "execute_result"
    }
   ],
   "source": [
    "# transform the test data set x so that can test the efficiency of the model later on\n",
    "\n",
    "test_x_vector = tfidf.transform(test_x)\n",
    "test_x_vector"
   ]
  },
  {
   "cell_type": "markdown",
   "id": "1fd30af6-5d7a-4df2-9653-a4621a876bfe",
   "metadata": {},
   "source": [
    "#### 4.3. Training"
   ]
  },
  {
   "cell_type": "markdown",
   "id": "930387a3-0f00-4a78-a898-f9cdb2765409",
   "metadata": {},
   "source": [
    "* with the numerical data, can experiment with different machine learning models and evaluate their accuracy\n",
    "* Machine learning algorithms are divided between supervised learning and unsupervised learning. \n",
    "* In the first, models are trained using labeled data, while in the second \n",
    "* patterns are inferred from the unlabeled input data.\n",
    "* In our example, our input (review) and output (sentiment) are clearly identified, \n",
    "* so we can say we have labeled input and output data; \n",
    "* therefore, we’re dealing with supervised learning. \n",
    "* Two common types of supervised learning algorithms are Regression and Classification.\n",
    "> Regression: They’re used to predict continuous values such as price, salary, age, etc\n",
    "> Classification: They’re used to predict discrete values such as male/female, spam/not spam, positive/negative, etc.\n",
    "\n",
    "* That said, it’s now evident that we should use classification algorithms. \n",
    "* We will benchmark the following four classification models (SVM, Decision Tree, Naive Bayes, Logistic Regression)\n"
   ]
  },
  {
   "cell_type": "markdown",
   "id": "bba959b0-09e5-4110-b744-f3297d8da72a",
   "metadata": {},
   "source": [
    "### 4.3.1. Model 1: Support Vector Machines"
   ]
  },
  {
   "cell_type": "code",
   "execution_count": 17,
   "id": "198e9e68-ee58-4aa3-b860-3bb0d05e5e86",
   "metadata": {},
   "outputs": [
    {
     "name": "stdout",
     "output_type": "stream",
     "text": [
      "['bitty']\n",
      "['bitty']\n",
      "['colour']\n"
     ]
    }
   ],
   "source": [
    "# start by fitting the model with the training set. X vector (text reviews as numerical vectors) and output y (sentiment)\n",
    "# have to run each block or else it wont work in preceding evaluation\n",
    "\n",
    "\n",
    "#The SVM algorithm offers a choice of kernel functions for performing its processing. \n",
    "#Basically, mapping data into a higher dimensional space is called kernelling. \n",
    "#The mathematical function used for the transformation is known as the kernel function, \n",
    "#and can be of different types, such as:\n",
    "    \n",
    "#1.Linear\n",
    "#2.Polynomial\n",
    "#3.Radial basis function (RBF)\n",
    "#4.Sigmoid\n",
    "\n",
    "#Each of these functions has its characteristics, its pros and cons, and its equation, \n",
    "#but as there's no easy way of knowing which function performs best with any given dataset. \n",
    "#We usually choose different functions in turn and compare the results. \n",
    "#Let's just use the default, RBF (Radial Basis Function) for this lab.\n",
    "\n",
    "from sklearn.svm import SVC\n",
    "svc = SVC(kernel='linear')\n",
    "svc.fit(train_x_vector, train_y)\n",
    "\n",
    "# can then use predict method to predict whether a review is positive or negative\n",
    "\n",
    "print(svc.predict(tfidf.transform(['bitty paint'])))   # transforming different strings with keywords then testing it against fitted SVC model\n",
    "print(svc.predict(tfidf.transform(['opacity issues in paint'])))\n",
    "print(svc.predict(tfidf.transform(['Color does not match'])))"
   ]
  },
  {
   "cell_type": "code",
   "execution_count": 18,
   "id": "4763893e-6b77-4234-aecc-af172e958821",
   "metadata": {},
   "outputs": [],
   "source": [
    "# as can be seen plugging in some general complaints matches with the correct reason group"
   ]
  },
  {
   "cell_type": "markdown",
   "id": "bb0ae02c-e25b-4d36-8c4a-79a44938db8b",
   "metadata": {},
   "source": [
    "#### 4.3.2.Model 2: Decision Tree"
   ]
  },
  {
   "cell_type": "code",
   "execution_count": 19,
   "id": "dfbbfd59-528d-46d6-84e4-991aa2798cdf",
   "metadata": {},
   "outputs": [
    {
     "data": {
      "text/html": [
       "<style>#sk-container-id-1 {color: black;background-color: white;}#sk-container-id-1 pre{padding: 0;}#sk-container-id-1 div.sk-toggleable {background-color: white;}#sk-container-id-1 label.sk-toggleable__label {cursor: pointer;display: block;width: 100%;margin-bottom: 0;padding: 0.3em;box-sizing: border-box;text-align: center;}#sk-container-id-1 label.sk-toggleable__label-arrow:before {content: \"▸\";float: left;margin-right: 0.25em;color: #696969;}#sk-container-id-1 label.sk-toggleable__label-arrow:hover:before {color: black;}#sk-container-id-1 div.sk-estimator:hover label.sk-toggleable__label-arrow:before {color: black;}#sk-container-id-1 div.sk-toggleable__content {max-height: 0;max-width: 0;overflow: hidden;text-align: left;background-color: #f0f8ff;}#sk-container-id-1 div.sk-toggleable__content pre {margin: 0.2em;color: black;border-radius: 0.25em;background-color: #f0f8ff;}#sk-container-id-1 input.sk-toggleable__control:checked~div.sk-toggleable__content {max-height: 200px;max-width: 100%;overflow: auto;}#sk-container-id-1 input.sk-toggleable__control:checked~label.sk-toggleable__label-arrow:before {content: \"▾\";}#sk-container-id-1 div.sk-estimator input.sk-toggleable__control:checked~label.sk-toggleable__label {background-color: #d4ebff;}#sk-container-id-1 div.sk-label input.sk-toggleable__control:checked~label.sk-toggleable__label {background-color: #d4ebff;}#sk-container-id-1 input.sk-hidden--visually {border: 0;clip: rect(1px 1px 1px 1px);clip: rect(1px, 1px, 1px, 1px);height: 1px;margin: -1px;overflow: hidden;padding: 0;position: absolute;width: 1px;}#sk-container-id-1 div.sk-estimator {font-family: monospace;background-color: #f0f8ff;border: 1px dotted black;border-radius: 0.25em;box-sizing: border-box;margin-bottom: 0.5em;}#sk-container-id-1 div.sk-estimator:hover {background-color: #d4ebff;}#sk-container-id-1 div.sk-parallel-item::after {content: \"\";width: 100%;border-bottom: 1px solid gray;flex-grow: 1;}#sk-container-id-1 div.sk-label:hover label.sk-toggleable__label {background-color: #d4ebff;}#sk-container-id-1 div.sk-serial::before {content: \"\";position: absolute;border-left: 1px solid gray;box-sizing: border-box;top: 0;bottom: 0;left: 50%;z-index: 0;}#sk-container-id-1 div.sk-serial {display: flex;flex-direction: column;align-items: center;background-color: white;padding-right: 0.2em;padding-left: 0.2em;position: relative;}#sk-container-id-1 div.sk-item {position: relative;z-index: 1;}#sk-container-id-1 div.sk-parallel {display: flex;align-items: stretch;justify-content: center;background-color: white;position: relative;}#sk-container-id-1 div.sk-item::before, #sk-container-id-1 div.sk-parallel-item::before {content: \"\";position: absolute;border-left: 1px solid gray;box-sizing: border-box;top: 0;bottom: 0;left: 50%;z-index: -1;}#sk-container-id-1 div.sk-parallel-item {display: flex;flex-direction: column;z-index: 1;position: relative;background-color: white;}#sk-container-id-1 div.sk-parallel-item:first-child::after {align-self: flex-end;width: 50%;}#sk-container-id-1 div.sk-parallel-item:last-child::after {align-self: flex-start;width: 50%;}#sk-container-id-1 div.sk-parallel-item:only-child::after {width: 0;}#sk-container-id-1 div.sk-dashed-wrapped {border: 1px dashed gray;margin: 0 0.4em 0.5em 0.4em;box-sizing: border-box;padding-bottom: 0.4em;background-color: white;}#sk-container-id-1 div.sk-label label {font-family: monospace;font-weight: bold;display: inline-block;line-height: 1.2em;}#sk-container-id-1 div.sk-label-container {text-align: center;}#sk-container-id-1 div.sk-container {/* jupyter's `normalize.less` sets `[hidden] { display: none; }` but bootstrap.min.css set `[hidden] { display: none !important; }` so we also need the `!important` here to be able to override the default hidden behavior on the sphinx rendered scikit-learn.org. See: https://github.com/scikit-learn/scikit-learn/issues/21755 */display: inline-block !important;position: relative;}#sk-container-id-1 div.sk-text-repr-fallback {display: none;}</style><div id=\"sk-container-id-1\" class=\"sk-top-container\"><div class=\"sk-text-repr-fallback\"><pre>DecisionTreeClassifier(criterion=&#x27;entropy&#x27;, max_depth=4)</pre><b>In a Jupyter environment, please rerun this cell to show the HTML representation or trust the notebook. <br />On GitHub, the HTML representation is unable to render, please try loading this page with nbviewer.org.</b></div><div class=\"sk-container\" hidden><div class=\"sk-item\"><div class=\"sk-estimator sk-toggleable\"><input class=\"sk-toggleable__control sk-hidden--visually\" id=\"sk-estimator-id-1\" type=\"checkbox\" checked><label for=\"sk-estimator-id-1\" class=\"sk-toggleable__label sk-toggleable__label-arrow\">DecisionTreeClassifier</label><div class=\"sk-toggleable__content\"><pre>DecisionTreeClassifier(criterion=&#x27;entropy&#x27;, max_depth=4)</pre></div></div></div></div></div>"
      ],
      "text/plain": [
       "DecisionTreeClassifier(criterion='entropy', max_depth=4)"
      ]
     },
     "execution_count": 19,
     "metadata": {},
     "output_type": "execute_result"
    }
   ],
   "source": [
    "#We will first create an instance of the DecisionTreeClassifier called dec\n",
    "#Inside of the classifier, specify criterion=\"entropy\" so we can see the information gain of each node.\n",
    "\n",
    "from sklearn.tree import DecisionTreeClassifier   # importing decision tree classifier from sklearn\n",
    "dec_tree = DecisionTreeClassifier()               # creating instance\n",
    "dec_tree.fit(train_x_vector, train_y)             # training model\n",
    "\n",
    "decTree = DecisionTreeClassifier(criterion=\"entropy\", max_depth = 4)\n",
    "decTree # it shows the default parameters"
   ]
  },
  {
   "cell_type": "code",
   "execution_count": 20,
   "id": "7a46a4b1-4e6b-45d3-be93-7b3b48f4c9cf",
   "metadata": {},
   "outputs": [
    {
     "name": "stdout",
     "output_type": "stream",
     "text": [
      "['filling' 'gelled' 'skinning' 'labelling' 'gelled']\n",
      "1412    fill level\n",
      "1564        gelled\n",
      "203       skinning\n",
      "1407     labelling\n",
      "52          gelled\n",
      "Name: Reason group, dtype: object\n"
     ]
    }
   ],
   "source": [
    "#predict with model\n",
    "\n",
    "predTree = dec_tree.predict(test_x_vector)\n",
    "\n",
    "# print out actual Y and predicted Y to visually see accuracy\n",
    "print (predTree [0:5])\n",
    "print (test_y [0:5])"
   ]
  },
  {
   "cell_type": "code",
   "execution_count": 21,
   "id": "9fc175c2-a993-49b2-a39c-caee1ef9b5f6",
   "metadata": {},
   "outputs": [
    {
     "data": {
      "image/png": "[encoded data removed]",
      "text/plain": [
       "<Figure size 1440x720 with 1 Axes>"
      ]
     },
     "metadata": {
      "needs_background": "light"
     },
     "output_type": "display_data"
    }
   ],
   "source": [
    "#visualize tree\n",
    "\n",
    "from sklearn.tree import plot_tree\n",
    "plt.figure(figsize=(20, 10))\n",
    "plot_tree(dec_tree, filled=True)\n",
    "plt.show()"
   ]
  },
  {
   "cell_type": "markdown",
   "id": "ecda4c46-1b76-4b86-a28e-e1f5f7421764",
   "metadata": {},
   "source": [
    "#### 4.3.3. Model 3: Naive Bayes"
   ]
  },
  {
   "cell_type": "code",
   "execution_count": 22,
   "id": "8639506c-6231-483e-8401-0e353e76ab04",
   "metadata": {},
   "outputs": [
    {
     "data": {
      "text/html": [
       "<style>#sk-container-id-2 {color: black;background-color: white;}#sk-container-id-2 pre{padding: 0;}#sk-container-id-2 div.sk-toggleable {background-color: white;}#sk-container-id-2 label.sk-toggleable__label {cursor: pointer;display: block;width: 100%;margin-bottom: 0;padding: 0.3em;box-sizing: border-box;text-align: center;}#sk-container-id-2 label.sk-toggleable__label-arrow:before {content: \"▸\";float: left;margin-right: 0.25em;color: #696969;}#sk-container-id-2 label.sk-toggleable__label-arrow:hover:before {color: black;}#sk-container-id-2 div.sk-estimator:hover label.sk-toggleable__label-arrow:before {color: black;}#sk-container-id-2 div.sk-toggleable__content {max-height: 0;max-width: 0;overflow: hidden;text-align: left;background-color: #f0f8ff;}#sk-container-id-2 div.sk-toggleable__content pre {margin: 0.2em;color: black;border-radius: 0.25em;background-color: #f0f8ff;}#sk-container-id-2 input.sk-toggleable__control:checked~div.sk-toggleable__content {max-height: 200px;max-width: 100%;overflow: auto;}#sk-container-id-2 input.sk-toggleable__control:checked~label.sk-toggleable__label-arrow:before {content: \"▾\";}#sk-container-id-2 div.sk-estimator input.sk-toggleable__control:checked~label.sk-toggleable__label {background-color: #d4ebff;}#sk-container-id-2 div.sk-label input.sk-toggleable__control:checked~label.sk-toggleable__label {background-color: #d4ebff;}#sk-container-id-2 input.sk-hidden--visually {border: 0;clip: rect(1px 1px 1px 1px);clip: rect(1px, 1px, 1px, 1px);height: 1px;margin: -1px;overflow: hidden;padding: 0;position: absolute;width: 1px;}#sk-container-id-2 div.sk-estimator {font-family: monospace;background-color: #f0f8ff;border: 1px dotted black;border-radius: 0.25em;box-sizing: border-box;margin-bottom: 0.5em;}#sk-container-id-2 div.sk-estimator:hover {background-color: #d4ebff;}#sk-container-id-2 div.sk-parallel-item::after {content: \"\";width: 100%;border-bottom: 1px solid gray;flex-grow: 1;}#sk-container-id-2 div.sk-label:hover label.sk-toggleable__label {background-color: #d4ebff;}#sk-container-id-2 div.sk-serial::before {content: \"\";position: absolute;border-left: 1px solid gray;box-sizing: border-box;top: 0;bottom: 0;left: 50%;z-index: 0;}#sk-container-id-2 div.sk-serial {display: flex;flex-direction: column;align-items: center;background-color: white;padding-right: 0.2em;padding-left: 0.2em;position: relative;}#sk-container-id-2 div.sk-item {position: relative;z-index: 1;}#sk-container-id-2 div.sk-parallel {display: flex;align-items: stretch;justify-content: center;background-color: white;position: relative;}#sk-container-id-2 div.sk-item::before, #sk-container-id-2 div.sk-parallel-item::before {content: \"\";position: absolute;border-left: 1px solid gray;box-sizing: border-box;top: 0;bottom: 0;left: 50%;z-index: -1;}#sk-container-id-2 div.sk-parallel-item {display: flex;flex-direction: column;z-index: 1;position: relative;background-color: white;}#sk-container-id-2 div.sk-parallel-item:first-child::after {align-self: flex-end;width: 50%;}#sk-container-id-2 div.sk-parallel-item:last-child::after {align-self: flex-start;width: 50%;}#sk-container-id-2 div.sk-parallel-item:only-child::after {width: 0;}#sk-container-id-2 div.sk-dashed-wrapped {border: 1px dashed gray;margin: 0 0.4em 0.5em 0.4em;box-sizing: border-box;padding-bottom: 0.4em;background-color: white;}#sk-container-id-2 div.sk-label label {font-family: monospace;font-weight: bold;display: inline-block;line-height: 1.2em;}#sk-container-id-2 div.sk-label-container {text-align: center;}#sk-container-id-2 div.sk-container {/* jupyter's `normalize.less` sets `[hidden] { display: none; }` but bootstrap.min.css set `[hidden] { display: none !important; }` so we also need the `!important` here to be able to override the default hidden behavior on the sphinx rendered scikit-learn.org. See: https://github.com/scikit-learn/scikit-learn/issues/21755 */display: inline-block !important;position: relative;}#sk-container-id-2 div.sk-text-repr-fallback {display: none;}</style><div id=\"sk-container-id-2\" class=\"sk-top-container\"><div class=\"sk-text-repr-fallback\"><pre>GaussianNB()</pre><b>In a Jupyter environment, please rerun this cell to show the HTML representation or trust the notebook. <br />On GitHub, the HTML representation is unable to render, please try loading this page with nbviewer.org.</b></div><div class=\"sk-container\" hidden><div class=\"sk-item\"><div class=\"sk-estimator sk-toggleable\"><input class=\"sk-toggleable__control sk-hidden--visually\" id=\"sk-estimator-id-2\" type=\"checkbox\" checked><label for=\"sk-estimator-id-2\" class=\"sk-toggleable__label sk-toggleable__label-arrow\">GaussianNB</label><div class=\"sk-toggleable__content\"><pre>GaussianNB()</pre></div></div></div></div></div>"
      ],
      "text/plain": [
       "GaussianNB()"
      ]
     },
     "execution_count": 22,
     "metadata": {},
     "output_type": "execute_result"
    }
   ],
   "source": [
    "from sklearn.naive_bayes import GaussianNB           \n",
    "gnb = GaussianNB()                   \n",
    "gnb.fit(train_x_vector.toarray(), train_y)        # need to convert to array before fitting model"
   ]
  },
  {
   "cell_type": "markdown",
   "id": "56b7aab7-72f1-4043-945f-8f9a2e698a99",
   "metadata": {},
   "source": [
    "### 4.3.4. Model 4: Logistic Regression"
   ]
  },
  {
   "cell_type": "markdown",
   "id": "4d79b684-0f89-4bfe-bfc5-996f6128e213",
   "metadata": {},
   "source": [
    "* Let's build our model using LogisticRegression from the Scikit-learn package\n",
    "* This function implements logistic regression and can use different numerical optimizers to find parameters,\n",
    "* including ‘newton-cg’, ‘lbfgs’, ‘liblinear’, ‘sag’, ‘saga’ solvers. \n",
    "* You can find extensive information about the pros and cons of these optimizers if you search it in the internet.\n",
    "* The version of Logistic Regression in Scikit-learn, support regularization. \n",
    "* Regularization is a technique used to solve the overfitting problem of machine learning models. \n",
    "* C parameter indicates inverse of regularization strength which must be a positive float. Smaller values specify stronger regularization. Now let's fit our model with train set:"
   ]
  },
  {
   "cell_type": "code",
   "execution_count": 23,
   "id": "73d70b90-7579-40db-9974-e5c9629f0fb0",
   "metadata": {},
   "outputs": [
    {
     "data": {
      "text/html": [
       "<style>#sk-container-id-3 {color: black;background-color: white;}#sk-container-id-3 pre{padding: 0;}#sk-container-id-3 div.sk-toggleable {background-color: white;}#sk-container-id-3 label.sk-toggleable__label {cursor: pointer;display: block;width: 100%;margin-bottom: 0;padding: 0.3em;box-sizing: border-box;text-align: center;}#sk-container-id-3 label.sk-toggleable__label-arrow:before {content: \"▸\";float: left;margin-right: 0.25em;color: #696969;}#sk-container-id-3 label.sk-toggleable__label-arrow:hover:before {color: black;}#sk-container-id-3 div.sk-estimator:hover label.sk-toggleable__label-arrow:before {color: black;}#sk-container-id-3 div.sk-toggleable__content {max-height: 0;max-width: 0;overflow: hidden;text-align: left;background-color: #f0f8ff;}#sk-container-id-3 div.sk-toggleable__content pre {margin: 0.2em;color: black;border-radius: 0.25em;background-color: #f0f8ff;}#sk-container-id-3 input.sk-toggleable__control:checked~div.sk-toggleable__content {max-height: 200px;max-width: 100%;overflow: auto;}#sk-container-id-3 input.sk-toggleable__control:checked~label.sk-toggleable__label-arrow:before {content: \"▾\";}#sk-container-id-3 div.sk-estimator input.sk-toggleable__control:checked~label.sk-toggleable__label {background-color: #d4ebff;}#sk-container-id-3 div.sk-label input.sk-toggleable__control:checked~label.sk-toggleable__label {background-color: #d4ebff;}#sk-container-id-3 input.sk-hidden--visually {border: 0;clip: rect(1px 1px 1px 1px);clip: rect(1px, 1px, 1px, 1px);height: 1px;margin: -1px;overflow: hidden;padding: 0;position: absolute;width: 1px;}#sk-container-id-3 div.sk-estimator {font-family: monospace;background-color: #f0f8ff;border: 1px dotted black;border-radius: 0.25em;box-sizing: border-box;margin-bottom: 0.5em;}#sk-container-id-3 div.sk-estimator:hover {background-color: #d4ebff;}#sk-container-id-3 div.sk-parallel-item::after {content: \"\";width: 100%;border-bottom: 1px solid gray;flex-grow: 1;}#sk-container-id-3 div.sk-label:hover label.sk-toggleable__label {background-color: #d4ebff;}#sk-container-id-3 div.sk-serial::before {content: \"\";position: absolute;border-left: 1px solid gray;box-sizing: border-box;top: 0;bottom: 0;left: 50%;z-index: 0;}#sk-container-id-3 div.sk-serial {display: flex;flex-direction: column;align-items: center;background-color: white;padding-right: 0.2em;padding-left: 0.2em;position: relative;}#sk-container-id-3 div.sk-item {position: relative;z-index: 1;}#sk-container-id-3 div.sk-parallel {display: flex;align-items: stretch;justify-content: center;background-color: white;position: relative;}#sk-container-id-3 div.sk-item::before, #sk-container-id-3 div.sk-parallel-item::before {content: \"\";position: absolute;border-left: 1px solid gray;box-sizing: border-box;top: 0;bottom: 0;left: 50%;z-index: -1;}#sk-container-id-3 div.sk-parallel-item {display: flex;flex-direction: column;z-index: 1;position: relative;background-color: white;}#sk-container-id-3 div.sk-parallel-item:first-child::after {align-self: flex-end;width: 50%;}#sk-container-id-3 div.sk-parallel-item:last-child::after {align-self: flex-start;width: 50%;}#sk-container-id-3 div.sk-parallel-item:only-child::after {width: 0;}#sk-container-id-3 div.sk-dashed-wrapped {border: 1px dashed gray;margin: 0 0.4em 0.5em 0.4em;box-sizing: border-box;padding-bottom: 0.4em;background-color: white;}#sk-container-id-3 div.sk-label label {font-family: monospace;font-weight: bold;display: inline-block;line-height: 1.2em;}#sk-container-id-3 div.sk-label-container {text-align: center;}#sk-container-id-3 div.sk-container {/* jupyter's `normalize.less` sets `[hidden] { display: none; }` but bootstrap.min.css set `[hidden] { display: none !important; }` so we also need the `!important` here to be able to override the default hidden behavior on the sphinx rendered scikit-learn.org. See: https://github.com/scikit-learn/scikit-learn/issues/21755 */display: inline-block !important;position: relative;}#sk-container-id-3 div.sk-text-repr-fallback {display: none;}</style><div id=\"sk-container-id-3\" class=\"sk-top-container\"><div class=\"sk-text-repr-fallback\"><pre>LogisticRegression(C=0.01, solver=&#x27;liblinear&#x27;)</pre><b>In a Jupyter environment, please rerun this cell to show the HTML representation or trust the notebook. <br />On GitHub, the HTML representation is unable to render, please try loading this page with nbviewer.org.</b></div><div class=\"sk-container\" hidden><div class=\"sk-item\"><div class=\"sk-estimator sk-toggleable\"><input class=\"sk-toggleable__control sk-hidden--visually\" id=\"sk-estimator-id-3\" type=\"checkbox\" checked><label for=\"sk-estimator-id-3\" class=\"sk-toggleable__label sk-toggleable__label-arrow\">LogisticRegression</label><div class=\"sk-toggleable__content\"><pre>LogisticRegression(C=0.01, solver=&#x27;liblinear&#x27;)</pre></div></div></div></div></div>"
      ],
      "text/plain": [
       "LogisticRegression(C=0.01, solver='liblinear')"
      ]
     },
     "execution_count": 23,
     "metadata": {},
     "output_type": "execute_result"
    }
   ],
   "source": [
    "from sklearn.linear_model import LogisticRegression\n",
    "log_reg = LogisticRegression(C=0.01, solver='liblinear')\n",
    "log_reg.fit(train_x_vector, train_y)"
   ]
  },
  {
   "cell_type": "markdown",
   "id": "21ca94e8-34e2-43e3-934d-d0bc29bf90c8",
   "metadata": {},
   "source": [
    "#### 4.4. Model Tuning"
   ]
  },
  {
   "cell_type": "markdown",
   "id": "85b2b3cd-6a60-4272-a531-e33a2285b21f",
   "metadata": {},
   "source": [
    "* This is used to maximize the model performance\n",
    "* The grid search method will be used\n",
    "* This is technique consists of an exhaustive search on specified parameters in order to obtain the optimum values of hyperparameters. \n",
    "\n",
    "* other examples of tuning: \n",
    "\n",
    "> * Bayesian Optimisation\n",
    "> * Evolutionary Algorithms\n",
    "> * Gradient-Based Optimisation. ...\n",
    "> * Grid Search. ...\n",
    "> * Keras' Tuner. ...\n",
    "> * Population-based Optimisation. ...\n",
    "> * ParamILS. ...\n",
    "> * Random Search.\n",
    "\n"
   ]
  },
  {
   "cell_type": "code",
   "execution_count": 24,
   "id": "d7f38249-58dc-4d21-9f02-5b55776c5589",
   "metadata": {},
   "outputs": [
    {
     "name": "stdout",
     "output_type": "stream",
     "text": [
      "{'C': 4, 'kernel': 'linear'}\n",
      "SVC(C=4, kernel='linear')\n"
     ]
    }
   ],
   "source": [
    "# model tuning for svm\n",
    "from sklearn.model_selection import GridSearchCV\n",
    "from sklearn.model_selection import LeaveOneOut\n",
    "from sklearn.svm import SVC\n",
    "\n",
    "\n",
    "\n",
    "# Define the parameters grid\n",
    "parameters = {'C': [1, 4, 8, 16, 32], 'kernel': ['linear', 'rbf']}\n",
    "\n",
    "# Initialize SVC and GridSearchCV with parameters and cross-validation\n",
    "svc = SVC()\n",
    "loo = LeaveOneOut()\n",
    "svc_grid = GridSearchCV(svc, parameters, cv=loo)\n",
    "\n",
    "# Fit GridSearchCV to filtered training data\n",
    "svc_grid.fit(train_x_vector, train_y)\n",
    "\n",
    "# Display best parameters and best estimator\n",
    "print(svc_grid.best_params_)\n",
    "print(svc_grid.best_estimator_)"
   ]
  },
  {
   "cell_type": "code",
   "execution_count": 25,
   "id": "4e4c2292-b4d7-491c-beb2-0d845089223e",
   "metadata": {},
   "outputs": [
    {
     "name": "stdout",
     "output_type": "stream",
     "text": [
      "Best Parameters: {'max_depth': None, 'min_samples_leaf': 1, 'min_samples_split': 2}\n",
      "Best Estimator: DecisionTreeClassifier()\n"
     ]
    }
   ],
   "source": [
    "#model tuning for decision tree\n",
    "\n",
    "from sklearn.model_selection import LeaveOneOut, GridSearchCV\n",
    "from sklearn.tree import DecisionTreeClassifier\n",
    "\n",
    "# Define the parameters grid for Decision Tree\n",
    "parameters = {\n",
    "    'max_depth': [None, 10, 20, 30],\n",
    "    'min_samples_split': [2, 5, 10],\n",
    "    'min_samples_leaf': [1, 2, 4]\n",
    "}\n",
    "\n",
    "# Initialize Decision Tree Classifier\n",
    "dt = DecisionTreeClassifier()\n",
    "\n",
    "# Initialize GridSearchCV with parameters and cross-validation (Leave-One-Out)\n",
    "loo = LeaveOneOut()\n",
    "dt_grid = GridSearchCV(dt, parameters, cv=loo)\n",
    "\n",
    "# Assuming train_x_vector and train_y are your training data and labels\n",
    "# Fit GridSearchCV to filtered training data\n",
    "dt_grid.fit(train_x_vector, train_y)\n",
    "\n",
    "# Display best parameters and best estimator\n",
    "print(\"Best Parameters:\", dt_grid.best_params_)\n",
    "print(\"Best Estimator:\", dt_grid.best_estimator_)"
   ]
  },
  {
   "cell_type": "code",
   "execution_count": 26,
   "id": "71f928c7-a273-4f0d-a0a7-a31e342f48b2",
   "metadata": {},
   "outputs": [
    {
     "name": "stdout",
     "output_type": "stream",
     "text": [
      "Best Parameters: {'var_smoothing': 1e-09}\n",
      "Best Estimator: GaussianNB()\n"
     ]
    }
   ],
   "source": [
    "# Model tuning for naive bayes\n",
    "\n",
    "# Define the parameters grid for Gaussian Naive Bayes\n",
    "parameters = {\n",
    "    'var_smoothing': [1e-9, 1e-8, 1e-7, 1e-6, 1e-5]\n",
    "}\n",
    "\n",
    "# Initialize Gaussian Naive Bayes classifier\n",
    "gnb = GaussianNB()\n",
    "\n",
    "# Initialize GridSearchCV with parameters and cross-validation (Leave-One-Out)\n",
    "loo = LeaveOneOut()\n",
    "gnb_grid = GridSearchCV(gnb, parameters, cv=loo)\n",
    "\n",
    "# Fit GridSearchCV to filtered training data\n",
    "gnb_grid.fit(train_x_vector.toarray(), train_y)\n",
    "\n",
    "# Display best parameters and best estimator\n",
    "print(\"Best Parameters:\", gnb_grid.best_params_)\n",
    "print(\"Best Estimator:\", gnb_grid.best_estimator_)"
   ]
  },
  {
   "cell_type": "markdown",
   "id": "e457a339-531d-4d0f-af3f-e4d051f80970",
   "metadata": {},
   "source": [
    "# STEP 5: MODEL EVALUATION"
   ]
  },
  {
   "cell_type": "markdown",
   "id": "fd20035e-9bb1-4cdd-b90f-edb7a30cced5",
   "metadata": {},
   "source": [
    "#### 5.1. Mean Accuracy"
   ]
  },
  {
   "cell_type": "code",
   "execution_count": 28,
   "id": "f5fb9b9d-f676-486b-8fdb-cda747b2a100",
   "metadata": {},
   "outputs": [
    {
     "name": "stdout",
     "output_type": "stream",
     "text": [
      "svc_grid: 0.92\n",
      "dt_grid: 0.92\n",
      "gnb_grid: 0.39\n",
      "log_reg: 0.69\n"
     ]
    }
   ],
   "source": [
    "# .score method with the training set is used\n",
    "\n",
    "print('svc_grid:',round(svc_grid.score(test_x_vector, test_y),2))\n",
    "print('dt_grid:', round(dt_grid.score(test_x_vector, test_y),2))\n",
    "print('gnb_grid:',round(gnb_grid.score(test_x_vector.toarray(), test_y),2))\n",
    "print('log_reg:',round(log_reg.score(test_x_vector, test_y),2))\n"
   ]
  },
  {
   "cell_type": "code",
   "execution_count": null,
   "id": "cd60ff78-5d2c-47a2-b332-552956cad9e7",
   "metadata": {},
   "outputs": [],
   "source": [
    "# As can be seen by the mean accuracy - SVM and decision trees perform better than the other models \n",
    "\n"
   ]
  },
  {
   "cell_type": "markdown",
   "id": "4071082c-7579-4de2-b4c3-58bc2a3ce01c",
   "metadata": {},
   "source": [
    "#### 5.3. Classification Report\n"
   ]
  },
  {
   "cell_type": "code",
   "execution_count": 37,
   "id": "573c2afa-918d-4ff5-8483-865fb4f85b18",
   "metadata": {},
   "outputs": [
    {
     "name": "stdout",
     "output_type": "stream",
     "text": [
      "Metrics for adhesion:\n",
      "Precision: 1.0000\n",
      "Recall: 0.9000\n",
      "F1-score: 0.9474\n",
      "Support: 10\n",
      "\n",
      "Metrics for aeration:\n",
      "Precision: 0.5000\n",
      "Recall: 1.0000\n",
      "F1-score: 0.6667\n",
      "Support: 1\n",
      "\n",
      "Metrics for alkaline burn:\n",
      "Precision: 1.0000\n",
      "Recall: 0.0000\n",
      "F1-score: 0.0000\n",
      "Support: 1\n",
      "\n",
      "Metrics for appearance:\n",
      "Precision: 1.0000\n",
      "Recall: 0.0000\n",
      "F1-score: 0.0000\n",
      "Support: 1\n",
      "\n",
      "Metrics for application:\n",
      "Precision: 0.8000\n",
      "Recall: 0.5714\n",
      "F1-score: 0.6667\n",
      "Support: 7\n",
      "\n",
      "Metrics for bitty:\n",
      "Precision: 0.9722\n",
      "Recall: 0.9211\n",
      "F1-score: 0.9459\n",
      "Support: 38\n",
      "\n",
      "Metrics for bleeding:\n",
      "Precision: 1.0000\n",
      "Recall: 0.0000\n",
      "F1-score: 0.0000\n",
      "Support: 3\n",
      "\n",
      "Metrics for blistering:\n",
      "Precision: 1.0000\n",
      "Recall: 1.0000\n",
      "F1-score: 1.0000\n",
      "Support: 7\n",
      "\n",
      "Metrics for brush marking:\n",
      "Precision: 1.0000\n",
      "Recall: 1.0000\n",
      "F1-score: 1.0000\n",
      "Support: 1\n",
      "\n",
      "Metrics for bubbles:\n",
      "Precision: 1.0000\n",
      "Recall: 0.0000\n",
      "F1-score: 0.0000\n",
      "Support: 1\n",
      "\n",
      "Metrics for colour:\n",
      "Precision: 0.8240\n",
      "Recall: 0.9904\n",
      "F1-score: 0.8996\n",
      "Support: 104\n",
      "\n",
      "Metrics for container:\n",
      "Precision: 1.0000\n",
      "Recall: 0.0000\n",
      "F1-score: 0.0000\n",
      "Support: 2\n",
      "\n",
      "Metrics for contaminated:\n",
      "Precision: 1.0000\n",
      "Recall: 0.0000\n",
      "F1-score: 0.0000\n",
      "Support: 3\n",
      "\n",
      "Metrics for cracking:\n",
      "Precision: 1.0000\n",
      "Recall: 1.0000\n",
      "F1-score: 1.0000\n",
      "Support: 5\n",
      "\n",
      "Metrics for cratering:\n",
      "Precision: 1.0000\n",
      "Recall: 0.0000\n",
      "F1-score: 0.0000\n",
      "Support: 1\n",
      "\n",
      "Metrics for drying:\n",
      "Precision: 1.0000\n",
      "Recall: 1.0000\n",
      "F1-score: 1.0000\n",
      "Support: 42\n",
      "\n",
      "Metrics for fading:\n",
      "Precision: 1.0000\n",
      "Recall: 0.0000\n",
      "F1-score: 0.0000\n",
      "Support: 2\n",
      "\n",
      "Metrics for fill level:\n",
      "Precision: 0.4286\n",
      "Recall: 0.5455\n",
      "F1-score: 0.4800\n",
      "Support: 11\n",
      "\n",
      "Metrics for filling:\n",
      "Precision: 0.2222\n",
      "Recall: 0.2500\n",
      "F1-score: 0.2353\n",
      "Support: 8\n",
      "\n",
      "Metrics for fish eye:\n",
      "Precision: 1.0000\n",
      "Recall: 1.0000\n",
      "F1-score: 1.0000\n",
      "Support: 10\n",
      "\n",
      "Metrics for floatation:\n",
      "Precision: 1.0000\n",
      "Recall: 1.0000\n",
      "F1-score: 1.0000\n",
      "Support: 3\n",
      "\n",
      "Metrics for gell strength:\n",
      "Precision: 1.0000\n",
      "Recall: 1.0000\n",
      "F1-score: 1.0000\n",
      "Support: 2\n",
      "\n",
      "Metrics for gelled:\n",
      "Precision: 0.9692\n",
      "Recall: 0.9643\n",
      "F1-score: 0.9668\n",
      "Support: 196\n",
      "\n",
      "Metrics for gloss:\n",
      "Precision: 1.0000\n",
      "Recall: 1.0000\n",
      "F1-score: 1.0000\n",
      "Support: 24\n",
      "\n",
      "Metrics for incorrect product:\n",
      "Precision: 1.0000\n",
      "Recall: 0.0000\n",
      "F1-score: 0.0000\n",
      "Support: 2\n",
      "\n",
      "Metrics for labelling:\n",
      "Precision: 0.9778\n",
      "Recall: 0.8627\n",
      "F1-score: 0.9167\n",
      "Support: 51\n",
      "\n",
      "Metrics for low time:\n",
      "Precision: 1.0000\n",
      "Recall: 0.0000\n",
      "F1-score: 0.0000\n",
      "Support: 2\n",
      "\n",
      "Metrics for lumpy:\n",
      "Precision: 0.8056\n",
      "Recall: 1.0000\n",
      "F1-score: 0.8923\n",
      "Support: 29\n",
      "\n",
      "Metrics for odour:\n",
      "Precision: 1.0000\n",
      "Recall: 0.0000\n",
      "F1-score: 0.0000\n",
      "Support: 3\n",
      "\n",
      "Metrics for opacity:\n",
      "Precision: 0.9524\n",
      "Recall: 1.0000\n",
      "F1-score: 0.9756\n",
      "Support: 20\n",
      "\n",
      "Metrics for other:\n",
      "Precision: 1.0000\n",
      "Recall: 0.0000\n",
      "F1-score: 0.0000\n",
      "Support: 2\n",
      "\n",
      "Metrics for overfilled:\n",
      "Precision: 1.0000\n",
      "Recall: 0.0000\n",
      "F1-score: 0.0000\n",
      "Support: 1\n",
      "\n",
      "Metrics for packaging:\n",
      "Precision: 0.9830\n",
      "Recall: 1.0000\n",
      "F1-score: 0.9914\n",
      "Support: 173\n",
      "\n",
      "Metrics for peeling:\n",
      "Precision: 1.0000\n",
      "Recall: 1.0000\n",
      "F1-score: 1.0000\n",
      "Support: 16\n",
      "\n",
      "Metrics for product:\n",
      "Precision: 1.0000\n",
      "Recall: 0.0000\n",
      "F1-score: 0.0000\n",
      "Support: 1\n",
      "\n",
      "Metrics for rotten:\n",
      "Precision: 0.8400\n",
      "Recall: 0.9692\n",
      "F1-score: 0.9000\n",
      "Support: 65\n",
      "\n",
      "Metrics for separation:\n",
      "Precision: 1.0000\n",
      "Recall: 0.0000\n",
      "F1-score: 0.0000\n",
      "Support: 5\n",
      "\n",
      "Metrics for settlement:\n",
      "Precision: 1.0000\n",
      "Recall: 1.0000\n",
      "F1-score: 1.0000\n",
      "Support: 8\n",
      "\n",
      "Metrics for skinning:\n",
      "Precision: 0.9737\n",
      "Recall: 0.7708\n",
      "F1-score: 0.8605\n",
      "Support: 48\n",
      "\n",
      "Metrics for syneresis:\n",
      "Precision: 0.4000\n",
      "Recall: 1.0000\n",
      "F1-score: 0.5714\n",
      "Support: 4\n",
      "\n",
      "Metrics for underfilled:\n",
      "Precision: 1.0000\n",
      "Recall: 0.0000\n",
      "F1-score: 0.0000\n",
      "Support: 2\n",
      "\n",
      "Metrics for viscosity:\n",
      "Precision: 0.9747\n",
      "Recall: 0.9625\n",
      "F1-score: 0.9686\n",
      "Support: 80\n",
      "\n",
      "Metrics for washability:\n",
      "Precision: 0.0000\n",
      "Recall: 1.0000\n",
      "F1-score: 0.0000\n",
      "Support: 0\n",
      "\n",
      "Metrics for wrinkling:\n",
      "Precision: 1.0000\n",
      "Recall: 1.0000\n",
      "F1-score: 1.0000\n",
      "Support: 1\n",
      "\n",
      "Metrics for yellowing:\n",
      "Precision: 0.5000\n",
      "Recall: 1.0000\n",
      "F1-score: 0.6667\n",
      "Support: 1\n",
      "\n"
     ]
    }
   ],
   "source": [
    "from sklearn.metrics import classification_report\n",
    "\n",
    "# Use the best estimator obtained from GridSearchCV\n",
    "best_svc = svc_grid.best_estimator_\n",
    "\n",
    "# Predict labels on the test set\n",
    "predicted_labels = best_svc.predict(test_x_vector)\n",
    "\n",
    "# Generate a classification report\n",
    "report = classification_report(test_y, predicted_labels, output_dict=True,zero_division=1)\n",
    "\n",
    "# Extract class names and metrics from the report\n",
    "class_names = list(report.keys())[:-3]  # Exclude 'accuracy', 'macro avg', 'weighted avg' keys\n",
    "\n",
    "# Iterate through each class and print classification metrics\n",
    "for class_name in class_names:\n",
    "    metrics = report[class_name]\n",
    "    precision = metrics['precision']\n",
    "    recall = metrics['recall']\n",
    "    f1_score = metrics['f1-score']\n",
    "    support = metrics['support']\n",
    "    \n",
    "    # Print classification metrics for the current class\n",
    "    print(f\"Metrics for {class_name}:\")\n",
    "    print(f\"Precision: {precision:.4f}\")\n",
    "    print(f\"Recall: {recall:.4f}\")\n",
    "    print(f\"F1-score: {f1_score:.4f}\")\n",
    "    print(f\"Support: {support}\")\n",
    "    print()  # Add a newline for readability"
   ]
  },
  {
   "cell_type": "code",
   "execution_count": 38,
   "id": "ced88b2f-73be-43ff-96de-f479facab440",
   "metadata": {},
   "outputs": [
    {
     "name": "stdout",
     "output_type": "stream",
     "text": [
      "Metrics for adhesion:\n",
      "Precision: 1.0000\n",
      "Recall: 0.9000\n",
      "F1-score: 0.9474\n",
      "Support: 10\n",
      "\n",
      "Metrics for aeration:\n",
      "Precision: 0.5000\n",
      "Recall: 1.0000\n",
      "F1-score: 0.6667\n",
      "Support: 1\n",
      "\n",
      "Metrics for alkaline burn:\n",
      "Precision: 1.0000\n",
      "Recall: 0.0000\n",
      "F1-score: 0.0000\n",
      "Support: 1\n",
      "\n",
      "Metrics for appearance:\n",
      "Precision: 0.5000\n",
      "Recall: 1.0000\n",
      "F1-score: 0.6667\n",
      "Support: 1\n",
      "\n",
      "Metrics for application:\n",
      "Precision: 0.8000\n",
      "Recall: 0.5714\n",
      "F1-score: 0.6667\n",
      "Support: 7\n",
      "\n",
      "Metrics for bitty:\n",
      "Precision: 0.9722\n",
      "Recall: 0.9211\n",
      "F1-score: 0.9459\n",
      "Support: 38\n",
      "\n",
      "Metrics for bleeding:\n",
      "Precision: 1.0000\n",
      "Recall: 0.0000\n",
      "F1-score: 0.0000\n",
      "Support: 3\n",
      "\n",
      "Metrics for blistering:\n",
      "Precision: 1.0000\n",
      "Recall: 1.0000\n",
      "F1-score: 1.0000\n",
      "Support: 7\n",
      "\n",
      "Metrics for brush marking:\n",
      "Precision: 1.0000\n",
      "Recall: 1.0000\n",
      "F1-score: 1.0000\n",
      "Support: 1\n",
      "\n",
      "Metrics for bubbles:\n",
      "Precision: 1.0000\n",
      "Recall: 0.0000\n",
      "F1-score: 0.0000\n",
      "Support: 1\n",
      "\n",
      "Metrics for colour:\n",
      "Precision: 0.8879\n",
      "Recall: 0.9904\n",
      "F1-score: 0.9364\n",
      "Support: 104\n",
      "\n",
      "Metrics for container:\n",
      "Precision: 1.0000\n",
      "Recall: 0.0000\n",
      "F1-score: 0.0000\n",
      "Support: 2\n",
      "\n",
      "Metrics for contaminated:\n",
      "Precision: 1.0000\n",
      "Recall: 0.0000\n",
      "F1-score: 0.0000\n",
      "Support: 3\n",
      "\n",
      "Metrics for cracking:\n",
      "Precision: 1.0000\n",
      "Recall: 1.0000\n",
      "F1-score: 1.0000\n",
      "Support: 5\n",
      "\n",
      "Metrics for cratering:\n",
      "Precision: 1.0000\n",
      "Recall: 0.0000\n",
      "F1-score: 0.0000\n",
      "Support: 1\n",
      "\n",
      "Metrics for drying:\n",
      "Precision: 1.0000\n",
      "Recall: 1.0000\n",
      "F1-score: 1.0000\n",
      "Support: 42\n",
      "\n",
      "Metrics for fading:\n",
      "Precision: 1.0000\n",
      "Recall: 0.0000\n",
      "F1-score: 0.0000\n",
      "Support: 2\n",
      "\n",
      "Metrics for fill level:\n",
      "Precision: 0.4286\n",
      "Recall: 0.5455\n",
      "F1-score: 0.4800\n",
      "Support: 11\n",
      "\n",
      "Metrics for filling:\n",
      "Precision: 0.2222\n",
      "Recall: 0.2500\n",
      "F1-score: 0.2353\n",
      "Support: 8\n",
      "\n",
      "Metrics for fish eye:\n",
      "Precision: 1.0000\n",
      "Recall: 1.0000\n",
      "F1-score: 1.0000\n",
      "Support: 10\n",
      "\n",
      "Metrics for floatation:\n",
      "Precision: 1.0000\n",
      "Recall: 1.0000\n",
      "F1-score: 1.0000\n",
      "Support: 3\n",
      "\n",
      "Metrics for gell strength:\n",
      "Precision: 1.0000\n",
      "Recall: 1.0000\n",
      "F1-score: 1.0000\n",
      "Support: 2\n",
      "\n",
      "Metrics for gelled:\n",
      "Precision: 0.9692\n",
      "Recall: 0.9643\n",
      "F1-score: 0.9668\n",
      "Support: 196\n",
      "\n",
      "Metrics for gloss:\n",
      "Precision: 1.0000\n",
      "Recall: 1.0000\n",
      "F1-score: 1.0000\n",
      "Support: 24\n",
      "\n",
      "Metrics for incorrect product:\n",
      "Precision: 1.0000\n",
      "Recall: 0.0000\n",
      "F1-score: 0.0000\n",
      "Support: 2\n",
      "\n",
      "Metrics for labelling:\n",
      "Precision: 0.9778\n",
      "Recall: 0.8627\n",
      "F1-score: 0.9167\n",
      "Support: 51\n",
      "\n",
      "Metrics for low time:\n",
      "Precision: 1.0000\n",
      "Recall: 0.0000\n",
      "F1-score: 0.0000\n",
      "Support: 2\n",
      "\n",
      "Metrics for lumpy:\n",
      "Precision: 0.8056\n",
      "Recall: 1.0000\n",
      "F1-score: 0.8923\n",
      "Support: 29\n",
      "\n",
      "Metrics for odour:\n",
      "Precision: 1.0000\n",
      "Recall: 0.0000\n",
      "F1-score: 0.0000\n",
      "Support: 3\n",
      "\n",
      "Metrics for opacity:\n",
      "Precision: 0.9524\n",
      "Recall: 1.0000\n",
      "F1-score: 0.9756\n",
      "Support: 20\n",
      "\n",
      "Metrics for other:\n",
      "Precision: 1.0000\n",
      "Recall: 0.0000\n",
      "F1-score: 0.0000\n",
      "Support: 2\n",
      "\n",
      "Metrics for overfilled:\n",
      "Precision: 1.0000\n",
      "Recall: 0.0000\n",
      "F1-score: 0.0000\n",
      "Support: 1\n",
      "\n",
      "Metrics for packaging:\n",
      "Precision: 0.9830\n",
      "Recall: 1.0000\n",
      "F1-score: 0.9914\n",
      "Support: 173\n",
      "\n",
      "Metrics for peeling:\n",
      "Precision: 1.0000\n",
      "Recall: 1.0000\n",
      "F1-score: 1.0000\n",
      "Support: 16\n",
      "\n",
      "Metrics for product:\n",
      "Precision: 1.0000\n",
      "Recall: 0.0000\n",
      "F1-score: 0.0000\n",
      "Support: 1\n",
      "\n",
      "Metrics for rotten:\n",
      "Precision: 0.8400\n",
      "Recall: 0.9692\n",
      "F1-score: 0.9000\n",
      "Support: 65\n",
      "\n",
      "Metrics for separation:\n",
      "Precision: 1.0000\n",
      "Recall: 0.0000\n",
      "F1-score: 0.0000\n",
      "Support: 5\n",
      "\n",
      "Metrics for settlement:\n",
      "Precision: 1.0000\n",
      "Recall: 1.0000\n",
      "F1-score: 1.0000\n",
      "Support: 8\n",
      "\n",
      "Metrics for skinning:\n",
      "Precision: 0.8222\n",
      "Recall: 0.7708\n",
      "F1-score: 0.7957\n",
      "Support: 48\n",
      "\n",
      "Metrics for syneresis:\n",
      "Precision: 0.4000\n",
      "Recall: 1.0000\n",
      "F1-score: 0.5714\n",
      "Support: 4\n",
      "\n",
      "Metrics for underfilled:\n",
      "Precision: 1.0000\n",
      "Recall: 0.0000\n",
      "F1-score: 0.0000\n",
      "Support: 2\n",
      "\n",
      "Metrics for viscosity:\n",
      "Precision: 0.9747\n",
      "Recall: 0.9625\n",
      "F1-score: 0.9686\n",
      "Support: 80\n",
      "\n",
      "Metrics for washability:\n",
      "Precision: 0.0000\n",
      "Recall: 1.0000\n",
      "F1-score: 0.0000\n",
      "Support: 0\n",
      "\n",
      "Metrics for wrinkling:\n",
      "Precision: 1.0000\n",
      "Recall: 1.0000\n",
      "F1-score: 1.0000\n",
      "Support: 1\n",
      "\n",
      "Metrics for yellowing:\n",
      "Precision: 0.5000\n",
      "Recall: 1.0000\n",
      "F1-score: 0.6667\n",
      "Support: 1\n",
      "\n"
     ]
    }
   ],
   "source": [
    "from sklearn.metrics import classification_report\n",
    "\n",
    "# Use the best estimator obtained from GridSearchCV\n",
    "best_dt = dt_grid.best_estimator_\n",
    "\n",
    "# Predict labels on the test set\n",
    "predicted_labels = best_dt.predict(test_x_vector)\n",
    "\n",
    "# Generate a classification report\n",
    "report = classification_report(test_y, predicted_labels, output_dict=True,zero_division=1)\n",
    "\n",
    "# Extract class names and metrics from the report\n",
    "class_names = list(report.keys())[:-3]  # Exclude 'accuracy', 'macro avg', 'weighted avg' keys\n",
    "\n",
    "# Iterate through each class and print classification metrics\n",
    "for class_name in class_names:\n",
    "    metrics = report[class_name]\n",
    "    precision = metrics['precision']\n",
    "    recall = metrics['recall']\n",
    "    f1_score = metrics['f1-score']\n",
    "    support = metrics['support']\n",
    "    \n",
    "    # Print classification metrics for the current class\n",
    "    print(f\"Metrics for {class_name}:\")\n",
    "    print(f\"Precision: {precision:.4f}\")\n",
    "    print(f\"Recall: {recall:.4f}\")\n",
    "    print(f\"F1-score: {f1_score:.4f}\")\n",
    "    print(f\"Support: {support}\")\n",
    "    print()  # Add a newline for readability"
   ]
  },
  {
   "cell_type": "markdown",
   "id": "c0186d07-1172-4830-93ac-e947e6249c38",
   "metadata": {},
   "source": [
    "#### 5.3. Confusion Matrix"
   ]
  },
  {
   "cell_type": "code",
   "execution_count": 51,
   "id": "9eaeb89f-e1ad-4a74-9cbb-cfdffef20a40",
   "metadata": {},
   "outputs": [
    {
     "data": {
      "image/png": "[encoded data removed]",
      "text/plain": [
       "<Figure size 720x576 with 2 Axes>"
      ]
     },
     "metadata": {
      "needs_background": "light"
     },
     "output_type": "display_data"
    }
   ],
   "source": [
    "# for SVM model \n",
    "\n",
    "from sklearn.metrics import confusion_matrix\n",
    "import matplotlib.pyplot as plt\n",
    "import seaborn as sns\n",
    "\n",
    "# Assuming svc_grid.best_estimator_ is the best SVM classifier obtained from GridSearchCV\n",
    "best_svc = svc_grid.best_estimator_\n",
    "\n",
    "# Predict labels on the test set\n",
    "y_pred = best_svc.predict(test_x_vector)\n",
    "\n",
    "# Compute confusion matrix\n",
    "cm = confusion_matrix(test_y, y_pred)\n",
    "\n",
    "# Plot confusion matrix as a heatmap\n",
    "plt.figure(figsize=(10, 8))\n",
    "sns.heatmap(cm, annot=True, fmt='d', cmap='Blues', \n",
    "            xticklabels=mlb.classes_, yticklabels=mlb.classes_)\n",
    "plt.xlabel('Predicted Labels')\n",
    "plt.ylabel('True Labels')\n",
    "plt.title('Confusion Matrix')\n",
    "plt.show()"
   ]
  },
  {
   "cell_type": "code",
   "execution_count": 52,
   "id": "118a66fa-ab69-499b-8261-f1e7d0fe74f6",
   "metadata": {},
   "outputs": [
    {
     "data": {
      "image/png": "[encoded data removed]",
      "text/plain": [
       "<Figure size 720x576 with 2 Axes>"
      ]
     },
     "metadata": {
      "needs_background": "light"
     },
     "output_type": "display_data"
    }
   ],
   "source": [
    "# for decision tree model \n",
    "\n",
    "from sklearn.metrics import confusion_matrix\n",
    "import matplotlib.pyplot as plt\n",
    "import seaborn as sns\n",
    "\n",
    "# Assuming svc_grid.best_estimator_ is the best SVM classifier obtained from GridSearchCV\n",
    "best_dt= dt_grid.best_estimator_\n",
    "\n",
    "# Predict labels on the test set\n",
    "y_pred = best_dt.predict(test_x_vector)\n",
    "\n",
    "# Compute confusion matrix\n",
    "cm = confusion_matrix(test_y, y_pred)\n",
    "\n",
    "# Compute confusion matrix\n",
    "cm = confusion_matrix(test_y, y_pred)\n",
    "\n",
    "# Plot confusion matrix as a heatmap\n",
    "plt.figure(figsize=(10, 8))\n",
    "sns.heatmap(cm, annot=True, fmt='d', cmap='Blues', \n",
    "            xticklabels=mlb.classes_, yticklabels=mlb.classes_)\n",
    "plt.xlabel('Predicted Labels')\n",
    "plt.ylabel('True Labels')\n",
    "plt.title('Confusion Matrix')\n",
    "plt.show()"
   ]
  },
  {
   "cell_type": "markdown",
   "id": "cbd7efc1-3913-43b4-b902-232a4cba6774",
   "metadata": {},
   "source": [
    "Both models seem to be performing fairly well, however collecting more samples for the under-represented classes will improve the reliability of the model "
   ]
  },
  {
   "cell_type": "markdown",
   "id": "dcf14c33-45f0-491b-b01d-83f8020bb6ad",
   "metadata": {},
   "source": [
    "# STEP 6: Model Deployment/Consumption"
   ]
  },
  {
   "cell_type": "code",
   "execution_count": null,
   "id": "7a560c9b-9e3c-4dac-a2b6-cd730598f491",
   "metadata": {},
   "outputs": [],
   "source": []
  }
 ],
 "metadata": {
  "kernelspec": {
   "display_name": "Python 3 (ipykernel)",
   "language": "python",
   "name": "python3"
  },
  "language_info": {
   "codemirror_mode": {
    "name": "ipython",
    "version": 3
   },
   "file_extension": ".py",
   "mimetype": "text/x-python",
   "name": "python",
   "nbconvert_exporter": "python",
   "pygments_lexer": "ipython3",
   "version": "3.9.12"
  }
 },
 "nbformat": 4,
 "nbformat_minor": 5
}
